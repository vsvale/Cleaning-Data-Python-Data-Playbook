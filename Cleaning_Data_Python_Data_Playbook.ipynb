{
  "nbformat": 4,
  "nbformat_minor": 0,
  "metadata": {
    "colab": {
      "name": "Cleaning-Data-Python-Data-Playbook.ipynb",
      "provenance": [],
      "collapsed_sections": [],
      "authorship_tag": "ABX9TyMpBtjOTAumjU2N9uUZIm5H",
      "include_colab_link": true
    },
    "kernelspec": {
      "name": "python3",
      "display_name": "Python 3"
    }
  },
  "cells": [
    {
      "cell_type": "markdown",
      "metadata": {
        "id": "view-in-github",
        "colab_type": "text"
      },
      "source": [
        "<a href=\"https://colab.research.google.com/github/vsvale/Cleaning-Data-Python-Data-Playbook/blob/main/Cleaning_Data_Python_Data_Playbook.ipynb\" target=\"_parent\"><img src=\"https://colab.research.google.com/assets/colab-badge.svg\" alt=\"Open In Colab\"/></a>"
      ]
    },
    {
      "cell_type": "markdown",
      "metadata": {
        "id": "8AqkPaWFlNt1"
      },
      "source": [
        "# Tate"
      ]
    },
    {
      "cell_type": "code",
      "metadata": {
        "id": "PadyIoCOlNt1"
      },
      "source": [
        "import pandas as pd"
      ],
      "execution_count": null,
      "outputs": []
    },
    {
      "cell_type": "code",
      "metadata": {
        "id": "eWeR-0dRlNt1"
      },
      "source": [
        "url_art = 'https://raw.githubusercontent.com/tategallery/collection/master/artwork_data.csv'"
      ],
      "execution_count": null,
      "outputs": []
    },
    {
      "cell_type": "code",
      "metadata": {
        "colab": {
          "base_uri": "https://localhost:8080/"
        },
        "id": "ZCTItihtlNt1",
        "outputId": "c8f68109-abf0-4cf6-c8a9-86d3aaeb32d4"
      },
      "source": [
        "art = pd.read_csv(url_art,error_bad_lines=False)"
      ],
      "execution_count": null,
      "outputs": [
        {
          "output_type": "stream",
          "text": [
            "/usr/local/lib/python3.6/dist-packages/IPython/core/interactiveshell.py:2718: DtypeWarning: Columns (9,13) have mixed types.Specify dtype option on import or set low_memory=False.\n",
            "  interactivity=interactivity, compiler=compiler, result=result)\n"
          ],
          "name": "stderr"
        }
      ]
    },
    {
      "cell_type": "code",
      "metadata": {
        "id": "6kIfB7sjlNt2"
      },
      "source": [
        "art.width = pd.to_numeric(art.width,errors='coerce')\n",
        "art.height = pd.to_numeric(art.height,errors='coerce')\n",
        "art.year = pd.to_numeric(art.year,errors='coerce')"
      ],
      "execution_count": null,
      "outputs": []
    },
    {
      "cell_type": "code",
      "metadata": {
        "colab": {
          "base_uri": "https://localhost:8080/",
          "height": 567
        },
        "id": "CxS9qFMQlNt2",
        "outputId": "6fec99ab-e510-4208-dfb4-1e74e4c7aef8"
      },
      "source": [
        "art.head()"
      ],
      "execution_count": null,
      "outputs": [
        {
          "output_type": "execute_result",
          "data": {
            "text/html": [
              "<div>\n",
              "<style scoped>\n",
              "    .dataframe tbody tr th:only-of-type {\n",
              "        vertical-align: middle;\n",
              "    }\n",
              "\n",
              "    .dataframe tbody tr th {\n",
              "        vertical-align: top;\n",
              "    }\n",
              "\n",
              "    .dataframe thead th {\n",
              "        text-align: right;\n",
              "    }\n",
              "</style>\n",
              "<table border=\"1\" class=\"dataframe\">\n",
              "  <thead>\n",
              "    <tr style=\"text-align: right;\">\n",
              "      <th></th>\n",
              "      <th>id</th>\n",
              "      <th>accession_number</th>\n",
              "      <th>artist</th>\n",
              "      <th>artistRole</th>\n",
              "      <th>artistId</th>\n",
              "      <th>title</th>\n",
              "      <th>dateText</th>\n",
              "      <th>medium</th>\n",
              "      <th>creditLine</th>\n",
              "      <th>year</th>\n",
              "      <th>acquisitionYear</th>\n",
              "      <th>dimensions</th>\n",
              "      <th>width</th>\n",
              "      <th>height</th>\n",
              "      <th>depth</th>\n",
              "      <th>units</th>\n",
              "      <th>inscription</th>\n",
              "      <th>thumbnailCopyright</th>\n",
              "      <th>thumbnailUrl</th>\n",
              "      <th>url</th>\n",
              "    </tr>\n",
              "  </thead>\n",
              "  <tbody>\n",
              "    <tr>\n",
              "      <th>0</th>\n",
              "      <td>1035</td>\n",
              "      <td>A00001</td>\n",
              "      <td>Blake, Robert</td>\n",
              "      <td>artist</td>\n",
              "      <td>38</td>\n",
              "      <td>A Figure Bowing before a Seated Old Man with h...</td>\n",
              "      <td>date not known</td>\n",
              "      <td>Watercolour, ink, chalk and graphite on paper....</td>\n",
              "      <td>Presented by Mrs John Richmond 1922</td>\n",
              "      <td>NaN</td>\n",
              "      <td>1922.0</td>\n",
              "      <td>support: 394 x 419 mm</td>\n",
              "      <td>394.0</td>\n",
              "      <td>419.0</td>\n",
              "      <td>NaN</td>\n",
              "      <td>mm</td>\n",
              "      <td>NaN</td>\n",
              "      <td>NaN</td>\n",
              "      <td>http://www.tate.org.uk/art/images/work/A/A00/A...</td>\n",
              "      <td>http://www.tate.org.uk/art/artworks/blake-a-fi...</td>\n",
              "    </tr>\n",
              "    <tr>\n",
              "      <th>1</th>\n",
              "      <td>1036</td>\n",
              "      <td>A00002</td>\n",
              "      <td>Blake, Robert</td>\n",
              "      <td>artist</td>\n",
              "      <td>38</td>\n",
              "      <td>Two Drawings of Frightened Figures, Probably f...</td>\n",
              "      <td>date not known</td>\n",
              "      <td>Graphite on paper</td>\n",
              "      <td>Presented by Mrs John Richmond 1922</td>\n",
              "      <td>NaN</td>\n",
              "      <td>1922.0</td>\n",
              "      <td>support: 311 x 213 mm</td>\n",
              "      <td>311.0</td>\n",
              "      <td>213.0</td>\n",
              "      <td>NaN</td>\n",
              "      <td>mm</td>\n",
              "      <td>NaN</td>\n",
              "      <td>NaN</td>\n",
              "      <td>http://www.tate.org.uk/art/images/work/A/A00/A...</td>\n",
              "      <td>http://www.tate.org.uk/art/artworks/blake-two-...</td>\n",
              "    </tr>\n",
              "    <tr>\n",
              "      <th>2</th>\n",
              "      <td>1037</td>\n",
              "      <td>A00003</td>\n",
              "      <td>Blake, Robert</td>\n",
              "      <td>artist</td>\n",
              "      <td>38</td>\n",
              "      <td>The Preaching of Warning. Verso: An Old Man En...</td>\n",
              "      <td>?c.1785</td>\n",
              "      <td>Graphite on paper. Verso: graphite on paper</td>\n",
              "      <td>Presented by Mrs John Richmond 1922</td>\n",
              "      <td>1785.0</td>\n",
              "      <td>1922.0</td>\n",
              "      <td>support: 343 x 467 mm</td>\n",
              "      <td>343.0</td>\n",
              "      <td>467.0</td>\n",
              "      <td>NaN</td>\n",
              "      <td>mm</td>\n",
              "      <td>NaN</td>\n",
              "      <td>NaN</td>\n",
              "      <td>http://www.tate.org.uk/art/images/work/A/A00/A...</td>\n",
              "      <td>http://www.tate.org.uk/art/artworks/blake-the-...</td>\n",
              "    </tr>\n",
              "    <tr>\n",
              "      <th>3</th>\n",
              "      <td>1038</td>\n",
              "      <td>A00004</td>\n",
              "      <td>Blake, Robert</td>\n",
              "      <td>artist</td>\n",
              "      <td>38</td>\n",
              "      <td>Six Drawings of Figures with Outstretched Arms</td>\n",
              "      <td>date not known</td>\n",
              "      <td>Graphite on paper</td>\n",
              "      <td>Presented by Mrs John Richmond 1922</td>\n",
              "      <td>NaN</td>\n",
              "      <td>1922.0</td>\n",
              "      <td>support: 318 x 394 mm</td>\n",
              "      <td>318.0</td>\n",
              "      <td>394.0</td>\n",
              "      <td>NaN</td>\n",
              "      <td>mm</td>\n",
              "      <td>NaN</td>\n",
              "      <td>NaN</td>\n",
              "      <td>http://www.tate.org.uk/art/images/work/A/A00/A...</td>\n",
              "      <td>http://www.tate.org.uk/art/artworks/blake-six-...</td>\n",
              "    </tr>\n",
              "    <tr>\n",
              "      <th>4</th>\n",
              "      <td>1039</td>\n",
              "      <td>A00005</td>\n",
              "      <td>Blake, William</td>\n",
              "      <td>artist</td>\n",
              "      <td>39</td>\n",
              "      <td>The Circle of the Lustful: Francesca da Rimini...</td>\n",
              "      <td>1826–7, reprinted 1892</td>\n",
              "      <td>Line engraving on paper</td>\n",
              "      <td>Purchased with the assistance of a special gra...</td>\n",
              "      <td>1826.0</td>\n",
              "      <td>1919.0</td>\n",
              "      <td>image: 243 x 335 mm</td>\n",
              "      <td>243.0</td>\n",
              "      <td>335.0</td>\n",
              "      <td>NaN</td>\n",
              "      <td>mm</td>\n",
              "      <td>NaN</td>\n",
              "      <td>NaN</td>\n",
              "      <td>http://www.tate.org.uk/art/images/work/A/A00/A...</td>\n",
              "      <td>http://www.tate.org.uk/art/artworks/blake-the-...</td>\n",
              "    </tr>\n",
              "  </tbody>\n",
              "</table>\n",
              "</div>"
            ],
            "text/plain": [
              "     id  ...                                                url\n",
              "0  1035  ...  http://www.tate.org.uk/art/artworks/blake-a-fi...\n",
              "1  1036  ...  http://www.tate.org.uk/art/artworks/blake-two-...\n",
              "2  1037  ...  http://www.tate.org.uk/art/artworks/blake-the-...\n",
              "3  1038  ...  http://www.tate.org.uk/art/artworks/blake-six-...\n",
              "4  1039  ...  http://www.tate.org.uk/art/artworks/blake-the-...\n",
              "\n",
              "[5 rows x 20 columns]"
            ]
          },
          "metadata": {
            "tags": []
          },
          "execution_count": 154
        }
      ]
    },
    {
      "cell_type": "code",
      "metadata": {
        "colab": {
          "base_uri": "https://localhost:8080/"
        },
        "id": "Ft9ieR3mlNt4",
        "outputId": "03c2cbc2-f84e-42a8-a286-1dcbc84691fb"
      },
      "source": [
        "art.dtypes"
      ],
      "execution_count": null,
      "outputs": [
        {
          "output_type": "execute_result",
          "data": {
            "text/plain": [
              "id                      int64\n",
              "accession_number       object\n",
              "artist                 object\n",
              "artistRole             object\n",
              "artistId                int64\n",
              "title                  object\n",
              "dateText               object\n",
              "medium                 object\n",
              "creditLine             object\n",
              "year                  float64\n",
              "acquisitionYear       float64\n",
              "dimensions             object\n",
              "width                 float64\n",
              "height                float64\n",
              "depth                 float64\n",
              "units                  object\n",
              "inscription            object\n",
              "thumbnailCopyright     object\n",
              "thumbnailUrl           object\n",
              "url                    object\n",
              "dtype: object"
            ]
          },
          "metadata": {
            "tags": []
          },
          "execution_count": 155
        }
      ]
    },
    {
      "cell_type": "code",
      "metadata": {
        "colab": {
          "base_uri": "https://localhost:8080/",
          "height": 287
        },
        "id": "RG3hlRA2lNt4",
        "outputId": "71960be0-5c2c-40c4-d638-2ce5a447ffc3"
      },
      "source": [
        "art.describe()"
      ],
      "execution_count": null,
      "outputs": [
        {
          "output_type": "execute_result",
          "data": {
            "text/html": [
              "<div>\n",
              "<style scoped>\n",
              "    .dataframe tbody tr th:only-of-type {\n",
              "        vertical-align: middle;\n",
              "    }\n",
              "\n",
              "    .dataframe tbody tr th {\n",
              "        vertical-align: top;\n",
              "    }\n",
              "\n",
              "    .dataframe thead th {\n",
              "        text-align: right;\n",
              "    }\n",
              "</style>\n",
              "<table border=\"1\" class=\"dataframe\">\n",
              "  <thead>\n",
              "    <tr style=\"text-align: right;\">\n",
              "      <th></th>\n",
              "      <th>id</th>\n",
              "      <th>artistId</th>\n",
              "      <th>year</th>\n",
              "      <th>acquisitionYear</th>\n",
              "      <th>width</th>\n",
              "      <th>height</th>\n",
              "      <th>depth</th>\n",
              "    </tr>\n",
              "  </thead>\n",
              "  <tbody>\n",
              "    <tr>\n",
              "      <th>count</th>\n",
              "      <td>69201.000000</td>\n",
              "      <td>69201.000000</td>\n",
              "      <td>63804.000000</td>\n",
              "      <td>69156.000000</td>\n",
              "      <td>65834.000000</td>\n",
              "      <td>65859.000000</td>\n",
              "      <td>2514.000000</td>\n",
              "    </tr>\n",
              "    <tr>\n",
              "      <th>mean</th>\n",
              "      <td>39148.026213</td>\n",
              "      <td>1201.063251</td>\n",
              "      <td>1867.227823</td>\n",
              "      <td>1910.646856</td>\n",
              "      <td>323.472435</td>\n",
              "      <td>346.436173</td>\n",
              "      <td>479.197772</td>\n",
              "    </tr>\n",
              "    <tr>\n",
              "      <th>std</th>\n",
              "      <td>25980.468687</td>\n",
              "      <td>2019.422535</td>\n",
              "      <td>72.012718</td>\n",
              "      <td>64.202148</td>\n",
              "      <td>408.810182</td>\n",
              "      <td>538.037975</td>\n",
              "      <td>1051.141734</td>\n",
              "    </tr>\n",
              "    <tr>\n",
              "      <th>min</th>\n",
              "      <td>3.000000</td>\n",
              "      <td>0.000000</td>\n",
              "      <td>1545.000000</td>\n",
              "      <td>1823.000000</td>\n",
              "      <td>3.000000</td>\n",
              "      <td>6.000000</td>\n",
              "      <td>1.000000</td>\n",
              "    </tr>\n",
              "    <tr>\n",
              "      <th>25%</th>\n",
              "      <td>19096.000000</td>\n",
              "      <td>558.000000</td>\n",
              "      <td>1817.000000</td>\n",
              "      <td>1856.000000</td>\n",
              "      <td>118.000000</td>\n",
              "      <td>117.000000</td>\n",
              "      <td>48.250000</td>\n",
              "    </tr>\n",
              "    <tr>\n",
              "      <th>50%</th>\n",
              "      <td>37339.000000</td>\n",
              "      <td>558.000000</td>\n",
              "      <td>1831.000000</td>\n",
              "      <td>1856.000000</td>\n",
              "      <td>175.000000</td>\n",
              "      <td>190.000000</td>\n",
              "      <td>190.000000</td>\n",
              "    </tr>\n",
              "    <tr>\n",
              "      <th>75%</th>\n",
              "      <td>54712.000000</td>\n",
              "      <td>1137.000000</td>\n",
              "      <td>1953.000000</td>\n",
              "      <td>1982.000000</td>\n",
              "      <td>345.000000</td>\n",
              "      <td>359.000000</td>\n",
              "      <td>450.000000</td>\n",
              "    </tr>\n",
              "    <tr>\n",
              "      <th>max</th>\n",
              "      <td>129068.000000</td>\n",
              "      <td>19232.000000</td>\n",
              "      <td>2012.000000</td>\n",
              "      <td>2013.000000</td>\n",
              "      <td>11960.000000</td>\n",
              "      <td>37500.000000</td>\n",
              "      <td>18290.000000</td>\n",
              "    </tr>\n",
              "  </tbody>\n",
              "</table>\n",
              "</div>"
            ],
            "text/plain": [
              "                  id      artistId  ...        height         depth\n",
              "count   69201.000000  69201.000000  ...  65859.000000   2514.000000\n",
              "mean    39148.026213   1201.063251  ...    346.436173    479.197772\n",
              "std     25980.468687   2019.422535  ...    538.037975   1051.141734\n",
              "min         3.000000      0.000000  ...      6.000000      1.000000\n",
              "25%     19096.000000    558.000000  ...    117.000000     48.250000\n",
              "50%     37339.000000    558.000000  ...    190.000000    190.000000\n",
              "75%     54712.000000   1137.000000  ...    359.000000    450.000000\n",
              "max    129068.000000  19232.000000  ...  37500.000000  18290.000000\n",
              "\n",
              "[8 rows x 7 columns]"
            ]
          },
          "metadata": {
            "tags": []
          },
          "execution_count": 156
        }
      ]
    },
    {
      "cell_type": "code",
      "metadata": {
        "colab": {
          "base_uri": "https://localhost:8080/"
        },
        "id": "_Xr4vS2olNuX",
        "outputId": "6485e69a-d699-4684-e777-091c3771634d"
      },
      "source": [
        "art.year"
      ],
      "execution_count": null,
      "outputs": [
        {
          "output_type": "execute_result",
          "data": {
            "text/plain": [
              "0           NaN\n",
              "1           NaN\n",
              "2        1785.0\n",
              "3           NaN\n",
              "4        1826.0\n",
              "          ...  \n",
              "69196    1975.0\n",
              "69197    1976.0\n",
              "69198    1996.0\n",
              "69199    2000.0\n",
              "69200    1764.0\n",
              "Name: year, Length: 69201, dtype: float64"
            ]
          },
          "metadata": {
            "tags": []
          },
          "execution_count": 157
        }
      ]
    },
    {
      "cell_type": "code",
      "metadata": {
        "colab": {
          "base_uri": "https://localhost:8080/"
        },
        "id": "CyYWPBp2lNuX",
        "outputId": "71ba1501-a1d8-4e1c-d2f9-779ffb392b18"
      },
      "source": [
        "art.year.min()"
      ],
      "execution_count": null,
      "outputs": [
        {
          "output_type": "execute_result",
          "data": {
            "text/plain": [
              "1545.0"
            ]
          },
          "metadata": {
            "tags": []
          },
          "execution_count": 158
        }
      ]
    },
    {
      "cell_type": "code",
      "metadata": {
        "colab": {
          "base_uri": "https://localhost:8080/"
        },
        "id": "giDU3G-ZlNuX",
        "outputId": "7a296bcf-80ad-4eea-94cd-1f4c96bde735"
      },
      "source": [
        "art.year.max()"
      ],
      "execution_count": null,
      "outputs": [
        {
          "output_type": "execute_result",
          "data": {
            "text/plain": [
              "2012.0"
            ]
          },
          "metadata": {
            "tags": []
          },
          "execution_count": 159
        }
      ]
    },
    {
      "cell_type": "code",
      "metadata": {
        "colab": {
          "base_uri": "https://localhost:8080/"
        },
        "id": "ePzRy9ublNuX",
        "outputId": "3aeb0479-0c8d-4e12-b9ba-e654c11f1c11"
      },
      "source": [
        "art.year.agg(['mean','std'])"
      ],
      "execution_count": null,
      "outputs": [
        {
          "output_type": "execute_result",
          "data": {
            "text/plain": [
              "mean    1867.227823\n",
              "std       72.012718\n",
              "Name: year, dtype: float64"
            ]
          },
          "metadata": {
            "tags": []
          },
          "execution_count": 160
        }
      ]
    },
    {
      "cell_type": "code",
      "metadata": {
        "colab": {
          "base_uri": "https://localhost:8080/"
        },
        "id": "nCSovNJxlNuX",
        "outputId": "8fad8e49-d897-471a-cf87-6dc1a6846e99"
      },
      "source": [
        "art.year.count()"
      ],
      "execution_count": null,
      "outputs": [
        {
          "output_type": "execute_result",
          "data": {
            "text/plain": [
              "63804"
            ]
          },
          "metadata": {
            "tags": []
          },
          "execution_count": 161
        }
      ]
    },
    {
      "cell_type": "code",
      "metadata": {
        "colab": {
          "base_uri": "https://localhost:8080/"
        },
        "id": "keBl0E4dlNuf",
        "outputId": "78b4df4e-d1ff-42a9-cc07-b7349a02ed49"
      },
      "source": [
        "art.year.groupby(art.year).count()"
      ],
      "execution_count": null,
      "outputs": [
        {
          "output_type": "execute_result",
          "data": {
            "text/plain": [
              "year\n",
              "1545.0      2\n",
              "1557.0      1\n",
              "1563.0      1\n",
              "1565.0      1\n",
              "1569.0      1\n",
              "         ... \n",
              "2008.0    111\n",
              "2009.0     84\n",
              "2010.0     64\n",
              "2011.0     29\n",
              "2012.0     46\n",
              "Name: year, Length: 360, dtype: int64"
            ]
          },
          "metadata": {
            "tags": []
          },
          "execution_count": 162
        }
      ]
    },
    {
      "cell_type": "code",
      "metadata": {
        "colab": {
          "base_uri": "https://localhost:8080/"
        },
        "id": "tJmQ1tealNug",
        "outputId": "1872d585-b831-4663-8d9e-35a0e81455a9"
      },
      "source": [
        "normalize = (art.height - art.height.mean()) / art.height.std()\n",
        "normalize"
      ],
      "execution_count": null,
      "outputs": [
        {
          "output_type": "execute_result",
          "data": {
            "text/plain": [
              "0        0.134867\n",
              "1       -0.248005\n",
              "2        0.224081\n",
              "3        0.088402\n",
              "4       -0.021255\n",
              "           ...   \n",
              "69196   -0.077013\n",
              "69197   -0.077013\n",
              "69198    3.835350\n",
              "69199         NaN\n",
              "69200    0.582791\n",
              "Name: height, Length: 69201, dtype: float64"
            ]
          },
          "metadata": {
            "tags": []
          },
          "execution_count": 163
        }
      ]
    },
    {
      "cell_type": "code",
      "metadata": {
        "colab": {
          "base_uri": "https://localhost:8080/"
        },
        "id": "S_tEaxvWlNuh",
        "outputId": "9a338050-2498-4857-890f-159ab6f7eb6d"
      },
      "source": [
        "#value between 0 and 1\n",
        "minmax = (art.height - art.height.min()) / (art.height.max() - art.height.min())\n",
        "minmax"
      ],
      "execution_count": null,
      "outputs": [
        {
          "output_type": "execute_result",
          "data": {
            "text/plain": [
              "0        0.011015\n",
              "1        0.005521\n",
              "2        0.012295\n",
              "3        0.010348\n",
              "4        0.008775\n",
              "           ...   \n",
              "69196    0.007975\n",
              "69197    0.007975\n",
              "69198    0.064117\n",
              "69199         NaN\n",
              "69200    0.017443\n",
              "Name: height, Length: 69201, dtype: float64"
            ]
          },
          "metadata": {
            "tags": []
          },
          "execution_count": 164
        }
      ]
    },
    {
      "cell_type": "code",
      "metadata": {
        "id": "34b8LDzxlNul"
      },
      "source": [
        "art['height_norm'] = normalize\n",
        "art['height_minmax'] = minmax"
      ],
      "execution_count": null,
      "outputs": []
    },
    {
      "cell_type": "code",
      "metadata": {
        "id": "_kN4MhqmlNul"
      },
      "source": [
        "art['height_cm'] = art.height.transform(lambda x: x/10)"
      ],
      "execution_count": null,
      "outputs": []
    },
    {
      "cell_type": "code",
      "metadata": {
        "colab": {
          "base_uri": "https://localhost:8080/"
        },
        "id": "4eAe1yhilNul",
        "outputId": "210ba3cb-e2b8-45d9-c60c-5fd37c857893"
      },
      "source": [
        "art.groupby('artist')['height'].transform('mean')"
      ],
      "execution_count": null,
      "outputs": [
        {
          "output_type": "execute_result",
          "data": {
            "text/plain": [
              "0         373.250000\n",
              "1         373.250000\n",
              "2         373.250000\n",
              "3         373.250000\n",
              "4         266.944134\n",
              "            ...     \n",
              "69196     305.000000\n",
              "69197     305.000000\n",
              "69198    1491.285714\n",
              "69199    3515.333333\n",
              "69200     660.000000\n",
              "Name: height, Length: 69201, dtype: float64"
            ]
          },
          "metadata": {
            "tags": []
          },
          "execution_count": 167
        }
      ]
    },
    {
      "cell_type": "code",
      "metadata": {
        "colab": {
          "base_uri": "https://localhost:8080/",
          "height": 406
        },
        "id": "nOQYoKyelNul",
        "outputId": "773eb593-3225-44e4-c993-881da9647ddb"
      },
      "source": [
        "simpleart= art.filter(items=['artist','height','width'])\n",
        "simpleart"
      ],
      "execution_count": null,
      "outputs": [
        {
          "output_type": "execute_result",
          "data": {
            "text/html": [
              "<div>\n",
              "<style scoped>\n",
              "    .dataframe tbody tr th:only-of-type {\n",
              "        vertical-align: middle;\n",
              "    }\n",
              "\n",
              "    .dataframe tbody tr th {\n",
              "        vertical-align: top;\n",
              "    }\n",
              "\n",
              "    .dataframe thead th {\n",
              "        text-align: right;\n",
              "    }\n",
              "</style>\n",
              "<table border=\"1\" class=\"dataframe\">\n",
              "  <thead>\n",
              "    <tr style=\"text-align: right;\">\n",
              "      <th></th>\n",
              "      <th>artist</th>\n",
              "      <th>height</th>\n",
              "      <th>width</th>\n",
              "    </tr>\n",
              "  </thead>\n",
              "  <tbody>\n",
              "    <tr>\n",
              "      <th>0</th>\n",
              "      <td>Blake, Robert</td>\n",
              "      <td>419.0</td>\n",
              "      <td>394.0</td>\n",
              "    </tr>\n",
              "    <tr>\n",
              "      <th>1</th>\n",
              "      <td>Blake, Robert</td>\n",
              "      <td>213.0</td>\n",
              "      <td>311.0</td>\n",
              "    </tr>\n",
              "    <tr>\n",
              "      <th>2</th>\n",
              "      <td>Blake, Robert</td>\n",
              "      <td>467.0</td>\n",
              "      <td>343.0</td>\n",
              "    </tr>\n",
              "    <tr>\n",
              "      <th>3</th>\n",
              "      <td>Blake, Robert</td>\n",
              "      <td>394.0</td>\n",
              "      <td>318.0</td>\n",
              "    </tr>\n",
              "    <tr>\n",
              "      <th>4</th>\n",
              "      <td>Blake, William</td>\n",
              "      <td>335.0</td>\n",
              "      <td>243.0</td>\n",
              "    </tr>\n",
              "    <tr>\n",
              "      <th>...</th>\n",
              "      <td>...</td>\n",
              "      <td>...</td>\n",
              "      <td>...</td>\n",
              "    </tr>\n",
              "    <tr>\n",
              "      <th>69196</th>\n",
              "      <td>P-Orridge, Genesis</td>\n",
              "      <td>305.0</td>\n",
              "      <td>305.0</td>\n",
              "    </tr>\n",
              "    <tr>\n",
              "      <th>69197</th>\n",
              "      <td>P-Orridge, Genesis</td>\n",
              "      <td>305.0</td>\n",
              "      <td>305.0</td>\n",
              "    </tr>\n",
              "    <tr>\n",
              "      <th>69198</th>\n",
              "      <td>Hatoum, Mona</td>\n",
              "      <td>2410.0</td>\n",
              "      <td>45.0</td>\n",
              "    </tr>\n",
              "    <tr>\n",
              "      <th>69199</th>\n",
              "      <td>Creed, Martin</td>\n",
              "      <td>NaN</td>\n",
              "      <td>NaN</td>\n",
              "    </tr>\n",
              "    <tr>\n",
              "      <th>69200</th>\n",
              "      <td>Brunias, Agostino</td>\n",
              "      <td>660.0</td>\n",
              "      <td>508.0</td>\n",
              "    </tr>\n",
              "  </tbody>\n",
              "</table>\n",
              "<p>69201 rows × 3 columns</p>\n",
              "</div>"
            ],
            "text/plain": [
              "                   artist  height  width\n",
              "0           Blake, Robert   419.0  394.0\n",
              "1           Blake, Robert   213.0  311.0\n",
              "2           Blake, Robert   467.0  343.0\n",
              "3           Blake, Robert   394.0  318.0\n",
              "4          Blake, William   335.0  243.0\n",
              "...                   ...     ...    ...\n",
              "69196  P-Orridge, Genesis   305.0  305.0\n",
              "69197  P-Orridge, Genesis   305.0  305.0\n",
              "69198        Hatoum, Mona  2410.0   45.0\n",
              "69199       Creed, Martin     NaN    NaN\n",
              "69200   Brunias, Agostino   660.0  508.0\n",
              "\n",
              "[69201 rows x 3 columns]"
            ]
          },
          "metadata": {
            "tags": []
          },
          "execution_count": 168
        }
      ]
    },
    {
      "cell_type": "code",
      "metadata": {
        "colab": {
          "base_uri": "https://localhost:8080/",
          "height": 406
        },
        "id": "h2W3j3IllNum",
        "outputId": "664bb761-6bb4-4817-ca85-fcff4ae6bf66"
      },
      "source": [
        "simpleart.drop(0) #delete first row"
      ],
      "execution_count": null,
      "outputs": [
        {
          "output_type": "execute_result",
          "data": {
            "text/html": [
              "<div>\n",
              "<style scoped>\n",
              "    .dataframe tbody tr th:only-of-type {\n",
              "        vertical-align: middle;\n",
              "    }\n",
              "\n",
              "    .dataframe tbody tr th {\n",
              "        vertical-align: top;\n",
              "    }\n",
              "\n",
              "    .dataframe thead th {\n",
              "        text-align: right;\n",
              "    }\n",
              "</style>\n",
              "<table border=\"1\" class=\"dataframe\">\n",
              "  <thead>\n",
              "    <tr style=\"text-align: right;\">\n",
              "      <th></th>\n",
              "      <th>artist</th>\n",
              "      <th>height</th>\n",
              "      <th>width</th>\n",
              "    </tr>\n",
              "  </thead>\n",
              "  <tbody>\n",
              "    <tr>\n",
              "      <th>1</th>\n",
              "      <td>Blake, Robert</td>\n",
              "      <td>213.0</td>\n",
              "      <td>311.0</td>\n",
              "    </tr>\n",
              "    <tr>\n",
              "      <th>2</th>\n",
              "      <td>Blake, Robert</td>\n",
              "      <td>467.0</td>\n",
              "      <td>343.0</td>\n",
              "    </tr>\n",
              "    <tr>\n",
              "      <th>3</th>\n",
              "      <td>Blake, Robert</td>\n",
              "      <td>394.0</td>\n",
              "      <td>318.0</td>\n",
              "    </tr>\n",
              "    <tr>\n",
              "      <th>4</th>\n",
              "      <td>Blake, William</td>\n",
              "      <td>335.0</td>\n",
              "      <td>243.0</td>\n",
              "    </tr>\n",
              "    <tr>\n",
              "      <th>5</th>\n",
              "      <td>Blake, William</td>\n",
              "      <td>338.0</td>\n",
              "      <td>240.0</td>\n",
              "    </tr>\n",
              "    <tr>\n",
              "      <th>...</th>\n",
              "      <td>...</td>\n",
              "      <td>...</td>\n",
              "      <td>...</td>\n",
              "    </tr>\n",
              "    <tr>\n",
              "      <th>69196</th>\n",
              "      <td>P-Orridge, Genesis</td>\n",
              "      <td>305.0</td>\n",
              "      <td>305.0</td>\n",
              "    </tr>\n",
              "    <tr>\n",
              "      <th>69197</th>\n",
              "      <td>P-Orridge, Genesis</td>\n",
              "      <td>305.0</td>\n",
              "      <td>305.0</td>\n",
              "    </tr>\n",
              "    <tr>\n",
              "      <th>69198</th>\n",
              "      <td>Hatoum, Mona</td>\n",
              "      <td>2410.0</td>\n",
              "      <td>45.0</td>\n",
              "    </tr>\n",
              "    <tr>\n",
              "      <th>69199</th>\n",
              "      <td>Creed, Martin</td>\n",
              "      <td>NaN</td>\n",
              "      <td>NaN</td>\n",
              "    </tr>\n",
              "    <tr>\n",
              "      <th>69200</th>\n",
              "      <td>Brunias, Agostino</td>\n",
              "      <td>660.0</td>\n",
              "      <td>508.0</td>\n",
              "    </tr>\n",
              "  </tbody>\n",
              "</table>\n",
              "<p>69200 rows × 3 columns</p>\n",
              "</div>"
            ],
            "text/plain": [
              "                   artist  height  width\n",
              "1           Blake, Robert   213.0  311.0\n",
              "2           Blake, Robert   467.0  343.0\n",
              "3           Blake, Robert   394.0  318.0\n",
              "4          Blake, William   335.0  243.0\n",
              "5          Blake, William   338.0  240.0\n",
              "...                   ...     ...    ...\n",
              "69196  P-Orridge, Genesis   305.0  305.0\n",
              "69197  P-Orridge, Genesis   305.0  305.0\n",
              "69198        Hatoum, Mona  2410.0   45.0\n",
              "69199       Creed, Martin     NaN    NaN\n",
              "69200   Brunias, Agostino   660.0  508.0\n",
              "\n",
              "[69200 rows x 3 columns]"
            ]
          },
          "metadata": {
            "tags": []
          },
          "execution_count": 169
        }
      ]
    },
    {
      "cell_type": "code",
      "metadata": {
        "colab": {
          "base_uri": "https://localhost:8080/",
          "height": 406
        },
        "id": "B6O9xdmnlNum",
        "outputId": "2efc179f-c6e1-433d-ed80-aee4646edd97"
      },
      "source": [
        "simpleart['columtodrop'] = 0\n",
        "simpleart['columntodrop'] = 1\n",
        "simpleart"
      ],
      "execution_count": null,
      "outputs": [
        {
          "output_type": "execute_result",
          "data": {
            "text/html": [
              "<div>\n",
              "<style scoped>\n",
              "    .dataframe tbody tr th:only-of-type {\n",
              "        vertical-align: middle;\n",
              "    }\n",
              "\n",
              "    .dataframe tbody tr th {\n",
              "        vertical-align: top;\n",
              "    }\n",
              "\n",
              "    .dataframe thead th {\n",
              "        text-align: right;\n",
              "    }\n",
              "</style>\n",
              "<table border=\"1\" class=\"dataframe\">\n",
              "  <thead>\n",
              "    <tr style=\"text-align: right;\">\n",
              "      <th></th>\n",
              "      <th>artist</th>\n",
              "      <th>height</th>\n",
              "      <th>width</th>\n",
              "      <th>columtodrop</th>\n",
              "      <th>columntodrop</th>\n",
              "    </tr>\n",
              "  </thead>\n",
              "  <tbody>\n",
              "    <tr>\n",
              "      <th>0</th>\n",
              "      <td>Blake, Robert</td>\n",
              "      <td>419.0</td>\n",
              "      <td>394.0</td>\n",
              "      <td>0</td>\n",
              "      <td>1</td>\n",
              "    </tr>\n",
              "    <tr>\n",
              "      <th>1</th>\n",
              "      <td>Blake, Robert</td>\n",
              "      <td>213.0</td>\n",
              "      <td>311.0</td>\n",
              "      <td>0</td>\n",
              "      <td>1</td>\n",
              "    </tr>\n",
              "    <tr>\n",
              "      <th>2</th>\n",
              "      <td>Blake, Robert</td>\n",
              "      <td>467.0</td>\n",
              "      <td>343.0</td>\n",
              "      <td>0</td>\n",
              "      <td>1</td>\n",
              "    </tr>\n",
              "    <tr>\n",
              "      <th>3</th>\n",
              "      <td>Blake, Robert</td>\n",
              "      <td>394.0</td>\n",
              "      <td>318.0</td>\n",
              "      <td>0</td>\n",
              "      <td>1</td>\n",
              "    </tr>\n",
              "    <tr>\n",
              "      <th>4</th>\n",
              "      <td>Blake, William</td>\n",
              "      <td>335.0</td>\n",
              "      <td>243.0</td>\n",
              "      <td>0</td>\n",
              "      <td>1</td>\n",
              "    </tr>\n",
              "    <tr>\n",
              "      <th>...</th>\n",
              "      <td>...</td>\n",
              "      <td>...</td>\n",
              "      <td>...</td>\n",
              "      <td>...</td>\n",
              "      <td>...</td>\n",
              "    </tr>\n",
              "    <tr>\n",
              "      <th>69196</th>\n",
              "      <td>P-Orridge, Genesis</td>\n",
              "      <td>305.0</td>\n",
              "      <td>305.0</td>\n",
              "      <td>0</td>\n",
              "      <td>1</td>\n",
              "    </tr>\n",
              "    <tr>\n",
              "      <th>69197</th>\n",
              "      <td>P-Orridge, Genesis</td>\n",
              "      <td>305.0</td>\n",
              "      <td>305.0</td>\n",
              "      <td>0</td>\n",
              "      <td>1</td>\n",
              "    </tr>\n",
              "    <tr>\n",
              "      <th>69198</th>\n",
              "      <td>Hatoum, Mona</td>\n",
              "      <td>2410.0</td>\n",
              "      <td>45.0</td>\n",
              "      <td>0</td>\n",
              "      <td>1</td>\n",
              "    </tr>\n",
              "    <tr>\n",
              "      <th>69199</th>\n",
              "      <td>Creed, Martin</td>\n",
              "      <td>NaN</td>\n",
              "      <td>NaN</td>\n",
              "      <td>0</td>\n",
              "      <td>1</td>\n",
              "    </tr>\n",
              "    <tr>\n",
              "      <th>69200</th>\n",
              "      <td>Brunias, Agostino</td>\n",
              "      <td>660.0</td>\n",
              "      <td>508.0</td>\n",
              "      <td>0</td>\n",
              "      <td>1</td>\n",
              "    </tr>\n",
              "  </tbody>\n",
              "</table>\n",
              "<p>69201 rows × 5 columns</p>\n",
              "</div>"
            ],
            "text/plain": [
              "                   artist  height  width  columtodrop  columntodrop\n",
              "0           Blake, Robert   419.0  394.0            0             1\n",
              "1           Blake, Robert   213.0  311.0            0             1\n",
              "2           Blake, Robert   467.0  343.0            0             1\n",
              "3           Blake, Robert   394.0  318.0            0             1\n",
              "4          Blake, William   335.0  243.0            0             1\n",
              "...                   ...     ...    ...          ...           ...\n",
              "69196  P-Orridge, Genesis   305.0  305.0            0             1\n",
              "69197  P-Orridge, Genesis   305.0  305.0            0             1\n",
              "69198        Hatoum, Mona  2410.0   45.0            0             1\n",
              "69199       Creed, Martin     NaN    NaN            0             1\n",
              "69200   Brunias, Agostino   660.0  508.0            0             1\n",
              "\n",
              "[69201 rows x 5 columns]"
            ]
          },
          "metadata": {
            "tags": []
          },
          "execution_count": 170
        }
      ]
    },
    {
      "cell_type": "code",
      "metadata": {
        "colab": {
          "base_uri": "https://localhost:8080/",
          "height": 406
        },
        "id": "yX5V7RW3lNum",
        "outputId": "5b3e2f17-eb3b-4537-aaed-6fa65f2e7d4e"
      },
      "source": [
        "simpleart.drop('columtodrop',axis=1,inplace=True)\n",
        "simpleart.drop(columns=['columntodrop'],inplace=True)\n",
        "simpleart"
      ],
      "execution_count": null,
      "outputs": [
        {
          "output_type": "execute_result",
          "data": {
            "text/html": [
              "<div>\n",
              "<style scoped>\n",
              "    .dataframe tbody tr th:only-of-type {\n",
              "        vertical-align: middle;\n",
              "    }\n",
              "\n",
              "    .dataframe tbody tr th {\n",
              "        vertical-align: top;\n",
              "    }\n",
              "\n",
              "    .dataframe thead th {\n",
              "        text-align: right;\n",
              "    }\n",
              "</style>\n",
              "<table border=\"1\" class=\"dataframe\">\n",
              "  <thead>\n",
              "    <tr style=\"text-align: right;\">\n",
              "      <th></th>\n",
              "      <th>artist</th>\n",
              "      <th>height</th>\n",
              "      <th>width</th>\n",
              "    </tr>\n",
              "  </thead>\n",
              "  <tbody>\n",
              "    <tr>\n",
              "      <th>0</th>\n",
              "      <td>Blake, Robert</td>\n",
              "      <td>419.0</td>\n",
              "      <td>394.0</td>\n",
              "    </tr>\n",
              "    <tr>\n",
              "      <th>1</th>\n",
              "      <td>Blake, Robert</td>\n",
              "      <td>213.0</td>\n",
              "      <td>311.0</td>\n",
              "    </tr>\n",
              "    <tr>\n",
              "      <th>2</th>\n",
              "      <td>Blake, Robert</td>\n",
              "      <td>467.0</td>\n",
              "      <td>343.0</td>\n",
              "    </tr>\n",
              "    <tr>\n",
              "      <th>3</th>\n",
              "      <td>Blake, Robert</td>\n",
              "      <td>394.0</td>\n",
              "      <td>318.0</td>\n",
              "    </tr>\n",
              "    <tr>\n",
              "      <th>4</th>\n",
              "      <td>Blake, William</td>\n",
              "      <td>335.0</td>\n",
              "      <td>243.0</td>\n",
              "    </tr>\n",
              "    <tr>\n",
              "      <th>...</th>\n",
              "      <td>...</td>\n",
              "      <td>...</td>\n",
              "      <td>...</td>\n",
              "    </tr>\n",
              "    <tr>\n",
              "      <th>69196</th>\n",
              "      <td>P-Orridge, Genesis</td>\n",
              "      <td>305.0</td>\n",
              "      <td>305.0</td>\n",
              "    </tr>\n",
              "    <tr>\n",
              "      <th>69197</th>\n",
              "      <td>P-Orridge, Genesis</td>\n",
              "      <td>305.0</td>\n",
              "      <td>305.0</td>\n",
              "    </tr>\n",
              "    <tr>\n",
              "      <th>69198</th>\n",
              "      <td>Hatoum, Mona</td>\n",
              "      <td>2410.0</td>\n",
              "      <td>45.0</td>\n",
              "    </tr>\n",
              "    <tr>\n",
              "      <th>69199</th>\n",
              "      <td>Creed, Martin</td>\n",
              "      <td>NaN</td>\n",
              "      <td>NaN</td>\n",
              "    </tr>\n",
              "    <tr>\n",
              "      <th>69200</th>\n",
              "      <td>Brunias, Agostino</td>\n",
              "      <td>660.0</td>\n",
              "      <td>508.0</td>\n",
              "    </tr>\n",
              "  </tbody>\n",
              "</table>\n",
              "<p>69201 rows × 3 columns</p>\n",
              "</div>"
            ],
            "text/plain": [
              "                   artist  height  width\n",
              "0           Blake, Robert   419.0  394.0\n",
              "1           Blake, Robert   213.0  311.0\n",
              "2           Blake, Robert   467.0  343.0\n",
              "3           Blake, Robert   394.0  318.0\n",
              "4          Blake, William   335.0  243.0\n",
              "...                   ...     ...    ...\n",
              "69196  P-Orridge, Genesis   305.0  305.0\n",
              "69197  P-Orridge, Genesis   305.0  305.0\n",
              "69198        Hatoum, Mona  2410.0   45.0\n",
              "69199       Creed, Martin     NaN    NaN\n",
              "69200   Brunias, Agostino   660.0  508.0\n",
              "\n",
              "[69201 rows x 3 columns]"
            ]
          },
          "metadata": {
            "tags": []
          },
          "execution_count": 171
        }
      ]
    },
    {
      "cell_type": "code",
      "metadata": {
        "colab": {
          "base_uri": "https://localhost:8080/"
        },
        "id": "kuPExeozlNum",
        "outputId": "d0f03c07-a851-4850-b60c-9ea414d8b64f"
      },
      "source": [
        "art.columns"
      ],
      "execution_count": null,
      "outputs": [
        {
          "output_type": "execute_result",
          "data": {
            "text/plain": [
              "Index(['id', 'accession_number', 'artist', 'artistRole', 'artistId', 'title',\n",
              "       'dateText', 'medium', 'creditLine', 'year', 'acquisitionYear',\n",
              "       'dimensions', 'width', 'height', 'depth', 'units', 'inscription',\n",
              "       'thumbnailCopyright', 'thumbnailUrl', 'url', 'height_norm',\n",
              "       'height_minmax', 'height_cm'],\n",
              "      dtype='object')"
            ]
          },
          "metadata": {
            "tags": []
          },
          "execution_count": 172
        }
      ]
    },
    {
      "cell_type": "code",
      "metadata": {
        "colab": {
          "base_uri": "https://localhost:8080/"
        },
        "id": "xQAMeDVylNun",
        "outputId": "f377603d-5d08-4e9e-fa18-e4af03133a22"
      },
      "source": [
        "import re\n",
        "art.columns = [re.sub(r'([A-Z])',r'_\\1' ,x).lower() for x in art.columns]\n",
        "art.columns"
      ],
      "execution_count": null,
      "outputs": [
        {
          "output_type": "execute_result",
          "data": {
            "text/plain": [
              "Index(['id', 'accession_number', 'artist', 'artist_role', 'artist_id', 'title',\n",
              "       'date_text', 'medium', 'credit_line', 'year', 'acquisition_year',\n",
              "       'dimensions', 'width', 'height', 'depth', 'units', 'inscription',\n",
              "       'thumbnail_copyright', 'thumbnail_url', 'url', 'height_norm',\n",
              "       'height_minmax', 'height_cm'],\n",
              "      dtype='object')"
            ]
          },
          "metadata": {
            "tags": []
          },
          "execution_count": 173
        }
      ]
    },
    {
      "cell_type": "code",
      "metadata": {
        "id": "E4BFukXElNun"
      },
      "source": [
        "art.rename(columns={'thumbnail_url':'thumbnail'},inplace=True)"
      ],
      "execution_count": null,
      "outputs": []
    },
    {
      "cell_type": "code",
      "metadata": {
        "colab": {
          "base_uri": "https://localhost:8080/",
          "height": 35
        },
        "id": "exd3auuXlNun",
        "outputId": "5f63d882-ef7c-473f-f648-11af93496c6e"
      },
      "source": [
        "art['artist'][0]"
      ],
      "execution_count": null,
      "outputs": [
        {
          "output_type": "execute_result",
          "data": {
            "application/vnd.google.colaboratory.intrinsic+json": {
              "type": "string"
            },
            "text/plain": [
              "'Blake, Robert'"
            ]
          },
          "metadata": {
            "tags": []
          },
          "execution_count": 175
        }
      ]
    },
    {
      "cell_type": "code",
      "metadata": {
        "colab": {
          "base_uri": "https://localhost:8080/",
          "height": 35
        },
        "id": "8lww-HI6lNun",
        "outputId": "b62f3927-c19c-468b-b6e2-a873f68b2d55"
      },
      "source": [
        "art[['artist','medium']]['artist'][0]"
      ],
      "execution_count": null,
      "outputs": [
        {
          "output_type": "execute_result",
          "data": {
            "application/vnd.google.colaboratory.intrinsic+json": {
              "type": "string"
            },
            "text/plain": [
              "'Blake, Robert'"
            ]
          },
          "metadata": {
            "tags": []
          },
          "execution_count": 176
        }
      ]
    },
    {
      "cell_type": "code",
      "metadata": {
        "colab": {
          "base_uri": "https://localhost:8080/",
          "height": 77
        },
        "id": "HgxgXB5wlNun",
        "outputId": "5a66484c-1010-4542-de84-e0dad109c996"
      },
      "source": [
        "art[['artist','medium']][1:2]"
      ],
      "execution_count": null,
      "outputs": [
        {
          "output_type": "execute_result",
          "data": {
            "text/html": [
              "<div>\n",
              "<style scoped>\n",
              "    .dataframe tbody tr th:only-of-type {\n",
              "        vertical-align: middle;\n",
              "    }\n",
              "\n",
              "    .dataframe tbody tr th {\n",
              "        vertical-align: top;\n",
              "    }\n",
              "\n",
              "    .dataframe thead th {\n",
              "        text-align: right;\n",
              "    }\n",
              "</style>\n",
              "<table border=\"1\" class=\"dataframe\">\n",
              "  <thead>\n",
              "    <tr style=\"text-align: right;\">\n",
              "      <th></th>\n",
              "      <th>artist</th>\n",
              "      <th>medium</th>\n",
              "    </tr>\n",
              "  </thead>\n",
              "  <tbody>\n",
              "    <tr>\n",
              "      <th>1</th>\n",
              "      <td>Blake, Robert</td>\n",
              "      <td>Graphite on paper</td>\n",
              "    </tr>\n",
              "  </tbody>\n",
              "</table>\n",
              "</div>"
            ],
            "text/plain": [
              "          artist             medium\n",
              "1  Blake, Robert  Graphite on paper"
            ]
          },
          "metadata": {
            "tags": []
          },
          "execution_count": 177
        }
      ]
    },
    {
      "cell_type": "code",
      "metadata": {
        "colab": {
          "base_uri": "https://localhost:8080/",
          "height": 406
        },
        "id": "eBke3L9flNun",
        "outputId": "b4c9dc50-628a-46e8-cd06-9a7133823f57"
      },
      "source": [
        "art[art['year'] > 2000][['artist','medium','year']]"
      ],
      "execution_count": null,
      "outputs": [
        {
          "output_type": "execute_result",
          "data": {
            "text/html": [
              "<div>\n",
              "<style scoped>\n",
              "    .dataframe tbody tr th:only-of-type {\n",
              "        vertical-align: middle;\n",
              "    }\n",
              "\n",
              "    .dataframe tbody tr th {\n",
              "        vertical-align: top;\n",
              "    }\n",
              "\n",
              "    .dataframe thead th {\n",
              "        text-align: right;\n",
              "    }\n",
              "</style>\n",
              "<table border=\"1\" class=\"dataframe\">\n",
              "  <thead>\n",
              "    <tr style=\"text-align: right;\">\n",
              "      <th></th>\n",
              "      <th>artist</th>\n",
              "      <th>medium</th>\n",
              "      <th>year</th>\n",
              "    </tr>\n",
              "  </thead>\n",
              "  <tbody>\n",
              "    <tr>\n",
              "      <th>1763</th>\n",
              "      <td>Richter, Gerhard</td>\n",
              "      <td>Glass and wood</td>\n",
              "      <td>2004.0</td>\n",
              "    </tr>\n",
              "    <tr>\n",
              "      <th>1765</th>\n",
              "      <td>Richter, Gerhard</td>\n",
              "      <td>Oil paint on canvas</td>\n",
              "      <td>2004.0</td>\n",
              "    </tr>\n",
              "    <tr>\n",
              "      <th>1766</th>\n",
              "      <td>Richter, Gerhard</td>\n",
              "      <td>Oil paint on aluminium</td>\n",
              "      <td>2002.0</td>\n",
              "    </tr>\n",
              "    <tr>\n",
              "      <th>1767</th>\n",
              "      <td>Richter, Gerhard</td>\n",
              "      <td>Oil paint on aluminium</td>\n",
              "      <td>2002.0</td>\n",
              "    </tr>\n",
              "    <tr>\n",
              "      <th>1770</th>\n",
              "      <td>Mueck, Ron</td>\n",
              "      <td>Mixed media</td>\n",
              "      <td>2005.0</td>\n",
              "    </tr>\n",
              "    <tr>\n",
              "      <th>...</th>\n",
              "      <td>...</td>\n",
              "      <td>...</td>\n",
              "      <td>...</td>\n",
              "    </tr>\n",
              "    <tr>\n",
              "      <th>69178</th>\n",
              "      <td>Walker, Kelley</td>\n",
              "      <td>2 screenprints on fibreboard</td>\n",
              "      <td>2010.0</td>\n",
              "    </tr>\n",
              "    <tr>\n",
              "      <th>69179</th>\n",
              "      <td>Bulloch, Angela</td>\n",
              "      <td>4 aluminium pixel boxes with DMX control box, ...</td>\n",
              "      <td>2012.0</td>\n",
              "    </tr>\n",
              "    <tr>\n",
              "      <th>69183</th>\n",
              "      <td>Black, Karla</td>\n",
              "      <td>Cellophane, paint, sellotape, plaster powder, ...</td>\n",
              "      <td>2011.0</td>\n",
              "    </tr>\n",
              "    <tr>\n",
              "      <th>69187</th>\n",
              "      <td>Lord, Andrew</td>\n",
              "      <td>Ceramic, silver and epoxy</td>\n",
              "      <td>2004.0</td>\n",
              "    </tr>\n",
              "    <tr>\n",
              "      <th>69190</th>\n",
              "      <td>Andrade, Jonathas de</td>\n",
              "      <td>151 text panels, typewritten ink on paper, 53 ...</td>\n",
              "      <td>2009.0</td>\n",
              "    </tr>\n",
              "  </tbody>\n",
              "</table>\n",
              "<p>1484 rows × 3 columns</p>\n",
              "</div>"
            ],
            "text/plain": [
              "                     artist  ...    year\n",
              "1763       Richter, Gerhard  ...  2004.0\n",
              "1765       Richter, Gerhard  ...  2004.0\n",
              "1766       Richter, Gerhard  ...  2002.0\n",
              "1767       Richter, Gerhard  ...  2002.0\n",
              "1770             Mueck, Ron  ...  2005.0\n",
              "...                     ...  ...     ...\n",
              "69178        Walker, Kelley  ...  2010.0\n",
              "69179       Bulloch, Angela  ...  2012.0\n",
              "69183          Black, Karla  ...  2011.0\n",
              "69187          Lord, Andrew  ...  2004.0\n",
              "69190  Andrade, Jonathas de  ...  2009.0\n",
              "\n",
              "[1484 rows x 3 columns]"
            ]
          },
          "metadata": {
            "tags": []
          },
          "execution_count": 178
        }
      ]
    },
    {
      "cell_type": "code",
      "metadata": {
        "colab": {
          "base_uri": "https://localhost:8080/",
          "height": 677
        },
        "id": "y0ulIVjMlNun",
        "outputId": "58ea7170-ac7b-4b9e-8975-07184e4a34fe"
      },
      "source": [
        "art.loc[art.artist == 'Richter, Gerhard',['title','year']]"
      ],
      "execution_count": null,
      "outputs": [
        {
          "output_type": "execute_result",
          "data": {
            "text/html": [
              "<div>\n",
              "<style scoped>\n",
              "    .dataframe tbody tr th:only-of-type {\n",
              "        vertical-align: middle;\n",
              "    }\n",
              "\n",
              "    .dataframe tbody tr th {\n",
              "        vertical-align: top;\n",
              "    }\n",
              "\n",
              "    .dataframe thead th {\n",
              "        text-align: right;\n",
              "    }\n",
              "</style>\n",
              "<table border=\"1\" class=\"dataframe\">\n",
              "  <thead>\n",
              "    <tr style=\"text-align: right;\">\n",
              "      <th></th>\n",
              "      <th>title</th>\n",
              "      <th>year</th>\n",
              "    </tr>\n",
              "  </thead>\n",
              "  <tbody>\n",
              "    <tr>\n",
              "      <th>1759</th>\n",
              "      <td>Mirror Painting (Grey, 735-2)</td>\n",
              "      <td>1991.0</td>\n",
              "    </tr>\n",
              "    <tr>\n",
              "      <th>1760</th>\n",
              "      <td>Corner Mirror, brown-blue (737-1, 737-2)</td>\n",
              "      <td>1991.0</td>\n",
              "    </tr>\n",
              "    <tr>\n",
              "      <th>1761</th>\n",
              "      <td>Corner Mirror, green-red (737-2 A, 737-2 B)</td>\n",
              "      <td>1991.0</td>\n",
              "    </tr>\n",
              "    <tr>\n",
              "      <th>1762</th>\n",
              "      <td>48 Portraits</td>\n",
              "      <td>1971.0</td>\n",
              "    </tr>\n",
              "    <tr>\n",
              "      <th>1763</th>\n",
              "      <td>11 Panes</td>\n",
              "      <td>2004.0</td>\n",
              "    </tr>\n",
              "    <tr>\n",
              "      <th>1764</th>\n",
              "      <td>Abstract Painting (809-3)</td>\n",
              "      <td>1994.0</td>\n",
              "    </tr>\n",
              "    <tr>\n",
              "      <th>1765</th>\n",
              "      <td>Abstract Painting (Skin) (887-3)</td>\n",
              "      <td>2004.0</td>\n",
              "    </tr>\n",
              "    <tr>\n",
              "      <th>1766</th>\n",
              "      <td>Abstract Painting (Silicate) (880-4)</td>\n",
              "      <td>2002.0</td>\n",
              "    </tr>\n",
              "    <tr>\n",
              "      <th>1767</th>\n",
              "      <td>Abstract Painting (Grey) (880-3)</td>\n",
              "      <td>2002.0</td>\n",
              "    </tr>\n",
              "    <tr>\n",
              "      <th>1919</th>\n",
              "      <td>Self Portrait Standing, Three Times, 17.3.1991</td>\n",
              "      <td>1991.0</td>\n",
              "    </tr>\n",
              "    <tr>\n",
              "      <th>1920</th>\n",
              "      <td>Two Sculptures for a Room by Palermo</td>\n",
              "      <td>1971.0</td>\n",
              "    </tr>\n",
              "    <tr>\n",
              "      <th>2081</th>\n",
              "      <td>Brigid Polk (305)</td>\n",
              "      <td>1971.0</td>\n",
              "    </tr>\n",
              "    <tr>\n",
              "      <th>2082</th>\n",
              "      <td>Gilbert, George (381-1, 381-2)</td>\n",
              "      <td>1975.0</td>\n",
              "    </tr>\n",
              "    <tr>\n",
              "      <th>2083</th>\n",
              "      <td>Untitled</td>\n",
              "      <td>1985.0</td>\n",
              "    </tr>\n",
              "    <tr>\n",
              "      <th>52724</th>\n",
              "      <td>Elizabeth I</td>\n",
              "      <td>1966.0</td>\n",
              "    </tr>\n",
              "    <tr>\n",
              "      <th>55403</th>\n",
              "      <td>128 Details from a Picture (Halifax 1978) II (...</td>\n",
              "      <td>1998.0</td>\n",
              "    </tr>\n",
              "    <tr>\n",
              "      <th>57790</th>\n",
              "      <td>Abstract Painting No. 439</td>\n",
              "      <td>1978.0</td>\n",
              "    </tr>\n",
              "    <tr>\n",
              "      <th>57822</th>\n",
              "      <td>Oil Sketch No. 432/11</td>\n",
              "      <td>1977.0</td>\n",
              "    </tr>\n",
              "    <tr>\n",
              "      <th>60634</th>\n",
              "      <td>St John</td>\n",
              "      <td>1988.0</td>\n",
              "    </tr>\n",
              "    <tr>\n",
              "      <th>61939</th>\n",
              "      <td>Self-Portrait, Three Times, 24.1.90</td>\n",
              "      <td>1990.0</td>\n",
              "    </tr>\n",
              "    <tr>\n",
              "      <th>62024</th>\n",
              "      <td>Abstract Painting (726)</td>\n",
              "      <td>1990.0</td>\n",
              "    </tr>\n",
              "  </tbody>\n",
              "</table>\n",
              "</div>"
            ],
            "text/plain": [
              "                                                   title    year\n",
              "1759                       Mirror Painting (Grey, 735-2)  1991.0\n",
              "1760            Corner Mirror, brown-blue (737-1, 737-2)  1991.0\n",
              "1761         Corner Mirror, green-red (737-2 A, 737-2 B)  1991.0\n",
              "1762                                        48 Portraits  1971.0\n",
              "1763                                            11 Panes  2004.0\n",
              "1764                           Abstract Painting (809-3)  1994.0\n",
              "1765                    Abstract Painting (Skin) (887-3)  2004.0\n",
              "1766                Abstract Painting (Silicate) (880-4)  2002.0\n",
              "1767                    Abstract Painting (Grey) (880-3)  2002.0\n",
              "1919      Self Portrait Standing, Three Times, 17.3.1991  1991.0\n",
              "1920                Two Sculptures for a Room by Palermo  1971.0\n",
              "2081                                   Brigid Polk (305)  1971.0\n",
              "2082                      Gilbert, George (381-1, 381-2)  1975.0\n",
              "2083                                            Untitled  1985.0\n",
              "52724                                        Elizabeth I  1966.0\n",
              "55403  128 Details from a Picture (Halifax 1978) II (...  1998.0\n",
              "57790                          Abstract Painting No. 439  1978.0\n",
              "57822                              Oil Sketch No. 432/11  1977.0\n",
              "60634                                            St John  1988.0\n",
              "61939                Self-Portrait, Three Times, 24.1.90  1990.0\n",
              "62024                            Abstract Painting (726)  1990.0"
            ]
          },
          "metadata": {
            "tags": []
          },
          "execution_count": 179
        }
      ]
    },
    {
      "cell_type": "code",
      "metadata": {
        "colab": {
          "base_uri": "https://localhost:8080/"
        },
        "id": "bJ4CUhrMlNun",
        "outputId": "26bd3f05-74c5-4af0-f045-3d38580bb61c"
      },
      "source": [
        "art.medium"
      ],
      "execution_count": null,
      "outputs": [
        {
          "output_type": "execute_result",
          "data": {
            "text/plain": [
              "0        Watercolour, ink, chalk and graphite on paper....\n",
              "1                                        Graphite on paper\n",
              "2              Graphite on paper. Verso: graphite on paper\n",
              "3                                        Graphite on paper\n",
              "4                                  Line engraving on paper\n",
              "                               ...                        \n",
              "69196     Perspex, Wood, hairpiece, tampon and human blood\n",
              "69197    Wood, Perspex, plastic, photograph on paper, t...\n",
              "69198                                 Soap and glass beads\n",
              "69199                                     Gallery lighting\n",
              "69200                                  Oil paint on canvas\n",
              "Name: medium, Length: 69201, dtype: object"
            ]
          },
          "metadata": {
            "tags": []
          },
          "execution_count": 180
        }
      ]
    },
    {
      "cell_type": "code",
      "metadata": {
        "colab": {
          "base_uri": "https://localhost:8080/",
          "height": 406
        },
        "id": "LBMtzGellNun",
        "outputId": "72634549-2ae8-4630-ba7d-78e41ed076da"
      },
      "source": [
        "art.loc[art.medium.str.contains('Graphite',case=False,na=False),['artist','medium']]"
      ],
      "execution_count": null,
      "outputs": [
        {
          "output_type": "execute_result",
          "data": {
            "text/html": [
              "<div>\n",
              "<style scoped>\n",
              "    .dataframe tbody tr th:only-of-type {\n",
              "        vertical-align: middle;\n",
              "    }\n",
              "\n",
              "    .dataframe tbody tr th {\n",
              "        vertical-align: top;\n",
              "    }\n",
              "\n",
              "    .dataframe thead th {\n",
              "        text-align: right;\n",
              "    }\n",
              "</style>\n",
              "<table border=\"1\" class=\"dataframe\">\n",
              "  <thead>\n",
              "    <tr style=\"text-align: right;\">\n",
              "      <th></th>\n",
              "      <th>artist</th>\n",
              "      <th>medium</th>\n",
              "    </tr>\n",
              "  </thead>\n",
              "  <tbody>\n",
              "    <tr>\n",
              "      <th>0</th>\n",
              "      <td>Blake, Robert</td>\n",
              "      <td>Watercolour, ink, chalk and graphite on paper....</td>\n",
              "    </tr>\n",
              "    <tr>\n",
              "      <th>1</th>\n",
              "      <td>Blake, Robert</td>\n",
              "      <td>Graphite on paper</td>\n",
              "    </tr>\n",
              "    <tr>\n",
              "      <th>2</th>\n",
              "      <td>Blake, Robert</td>\n",
              "      <td>Graphite on paper. Verso: graphite on paper</td>\n",
              "    </tr>\n",
              "    <tr>\n",
              "      <th>3</th>\n",
              "      <td>Blake, Robert</td>\n",
              "      <td>Graphite on paper</td>\n",
              "    </tr>\n",
              "    <tr>\n",
              "      <th>32</th>\n",
              "      <td>Blake, William</td>\n",
              "      <td>Graphite on paper. Verso: graphite on paper</td>\n",
              "    </tr>\n",
              "    <tr>\n",
              "      <th>...</th>\n",
              "      <td>...</td>\n",
              "      <td>...</td>\n",
              "    </tr>\n",
              "    <tr>\n",
              "      <th>69140</th>\n",
              "      <td>Horn, Rebecca</td>\n",
              "      <td>Graphite, coloured graphite and acrylic paint ...</td>\n",
              "    </tr>\n",
              "    <tr>\n",
              "      <th>69154</th>\n",
              "      <td>Hepworth, Dame Barbara</td>\n",
              "      <td>Graphite, watercolour, crayon and oil paint on...</td>\n",
              "    </tr>\n",
              "    <tr>\n",
              "      <th>69155</th>\n",
              "      <td>Hepworth, Dame Barbara</td>\n",
              "      <td>Oil paint, watercolour, crayon and graphite on...</td>\n",
              "    </tr>\n",
              "    <tr>\n",
              "      <th>69156</th>\n",
              "      <td>Hepworth, Dame Barbara</td>\n",
              "      <td>Oil paint, watercolour, crayon and graphite on...</td>\n",
              "    </tr>\n",
              "    <tr>\n",
              "      <th>69157</th>\n",
              "      <td>Hepworth, Dame Barbara</td>\n",
              "      <td>Oil paint and graphite on paper</td>\n",
              "    </tr>\n",
              "  </tbody>\n",
              "</table>\n",
              "<p>32313 rows × 2 columns</p>\n",
              "</div>"
            ],
            "text/plain": [
              "                       artist                                             medium\n",
              "0               Blake, Robert  Watercolour, ink, chalk and graphite on paper....\n",
              "1               Blake, Robert                                  Graphite on paper\n",
              "2               Blake, Robert        Graphite on paper. Verso: graphite on paper\n",
              "3               Blake, Robert                                  Graphite on paper\n",
              "32             Blake, William        Graphite on paper. Verso: graphite on paper\n",
              "...                       ...                                                ...\n",
              "69140           Horn, Rebecca  Graphite, coloured graphite and acrylic paint ...\n",
              "69154  Hepworth, Dame Barbara  Graphite, watercolour, crayon and oil paint on...\n",
              "69155  Hepworth, Dame Barbara  Oil paint, watercolour, crayon and graphite on...\n",
              "69156  Hepworth, Dame Barbara  Oil paint, watercolour, crayon and graphite on...\n",
              "69157  Hepworth, Dame Barbara                    Oil paint and graphite on paper\n",
              "\n",
              "[32313 rows x 2 columns]"
            ]
          },
          "metadata": {
            "tags": []
          },
          "execution_count": 181
        }
      ]
    },
    {
      "cell_type": "code",
      "metadata": {
        "colab": {
          "base_uri": "https://localhost:8080/",
          "height": 406
        },
        "id": "4pVHo9a7lNuo",
        "outputId": "a01c1eec-82e4-49c8-c82d-6b786917cffb"
      },
      "source": [
        "art.loc[art.medium.str.contains('(?i)Graphite',regex=True,na=False),['artist','medium']]"
      ],
      "execution_count": null,
      "outputs": [
        {
          "output_type": "execute_result",
          "data": {
            "text/html": [
              "<div>\n",
              "<style scoped>\n",
              "    .dataframe tbody tr th:only-of-type {\n",
              "        vertical-align: middle;\n",
              "    }\n",
              "\n",
              "    .dataframe tbody tr th {\n",
              "        vertical-align: top;\n",
              "    }\n",
              "\n",
              "    .dataframe thead th {\n",
              "        text-align: right;\n",
              "    }\n",
              "</style>\n",
              "<table border=\"1\" class=\"dataframe\">\n",
              "  <thead>\n",
              "    <tr style=\"text-align: right;\">\n",
              "      <th></th>\n",
              "      <th>artist</th>\n",
              "      <th>medium</th>\n",
              "    </tr>\n",
              "  </thead>\n",
              "  <tbody>\n",
              "    <tr>\n",
              "      <th>0</th>\n",
              "      <td>Blake, Robert</td>\n",
              "      <td>Watercolour, ink, chalk and graphite on paper....</td>\n",
              "    </tr>\n",
              "    <tr>\n",
              "      <th>1</th>\n",
              "      <td>Blake, Robert</td>\n",
              "      <td>Graphite on paper</td>\n",
              "    </tr>\n",
              "    <tr>\n",
              "      <th>2</th>\n",
              "      <td>Blake, Robert</td>\n",
              "      <td>Graphite on paper. Verso: graphite on paper</td>\n",
              "    </tr>\n",
              "    <tr>\n",
              "      <th>3</th>\n",
              "      <td>Blake, Robert</td>\n",
              "      <td>Graphite on paper</td>\n",
              "    </tr>\n",
              "    <tr>\n",
              "      <th>32</th>\n",
              "      <td>Blake, William</td>\n",
              "      <td>Graphite on paper. Verso: graphite on paper</td>\n",
              "    </tr>\n",
              "    <tr>\n",
              "      <th>...</th>\n",
              "      <td>...</td>\n",
              "      <td>...</td>\n",
              "    </tr>\n",
              "    <tr>\n",
              "      <th>69140</th>\n",
              "      <td>Horn, Rebecca</td>\n",
              "      <td>Graphite, coloured graphite and acrylic paint ...</td>\n",
              "    </tr>\n",
              "    <tr>\n",
              "      <th>69154</th>\n",
              "      <td>Hepworth, Dame Barbara</td>\n",
              "      <td>Graphite, watercolour, crayon and oil paint on...</td>\n",
              "    </tr>\n",
              "    <tr>\n",
              "      <th>69155</th>\n",
              "      <td>Hepworth, Dame Barbara</td>\n",
              "      <td>Oil paint, watercolour, crayon and graphite on...</td>\n",
              "    </tr>\n",
              "    <tr>\n",
              "      <th>69156</th>\n",
              "      <td>Hepworth, Dame Barbara</td>\n",
              "      <td>Oil paint, watercolour, crayon and graphite on...</td>\n",
              "    </tr>\n",
              "    <tr>\n",
              "      <th>69157</th>\n",
              "      <td>Hepworth, Dame Barbara</td>\n",
              "      <td>Oil paint and graphite on paper</td>\n",
              "    </tr>\n",
              "  </tbody>\n",
              "</table>\n",
              "<p>32313 rows × 2 columns</p>\n",
              "</div>"
            ],
            "text/plain": [
              "                       artist                                             medium\n",
              "0               Blake, Robert  Watercolour, ink, chalk and graphite on paper....\n",
              "1               Blake, Robert                                  Graphite on paper\n",
              "2               Blake, Robert        Graphite on paper. Verso: graphite on paper\n",
              "3               Blake, Robert                                  Graphite on paper\n",
              "32             Blake, William        Graphite on paper. Verso: graphite on paper\n",
              "...                       ...                                                ...\n",
              "69140           Horn, Rebecca  Graphite, coloured graphite and acrylic paint ...\n",
              "69154  Hepworth, Dame Barbara  Graphite, watercolour, crayon and oil paint on...\n",
              "69155  Hepworth, Dame Barbara  Oil paint, watercolour, crayon and graphite on...\n",
              "69156  Hepworth, Dame Barbara  Oil paint, watercolour, crayon and graphite on...\n",
              "69157  Hepworth, Dame Barbara                    Oil paint and graphite on paper\n",
              "\n",
              "[32313 rows x 2 columns]"
            ]
          },
          "metadata": {
            "tags": []
          },
          "execution_count": 182
        }
      ]
    },
    {
      "cell_type": "code",
      "metadata": {
        "colab": {
          "base_uri": "https://localhost:8080/",
          "height": 137
        },
        "id": "G9X9HYaElNuo",
        "outputId": "e35c09e3-3bb7-4111-9572-30dd4ea8416b"
      },
      "source": [
        "art.loc[\n",
        "        art.medium.str.contains('Graphite|line',case=False,na=False) &\n",
        "        art.artist.str.contains('(?i)Blake',regex=True,na=False) &\n",
        "        art.year.astype('str').str.contains('1797',case=False,na=False),\n",
        "        ['artist','medium','year']\n",
        "        ]"
      ],
      "execution_count": null,
      "outputs": [
        {
          "output_type": "execute_result",
          "data": {
            "text/html": [
              "<div>\n",
              "<style scoped>\n",
              "    .dataframe tbody tr th:only-of-type {\n",
              "        vertical-align: middle;\n",
              "    }\n",
              "\n",
              "    .dataframe tbody tr th {\n",
              "        vertical-align: top;\n",
              "    }\n",
              "\n",
              "    .dataframe thead th {\n",
              "        text-align: right;\n",
              "    }\n",
              "</style>\n",
              "<table border=\"1\" class=\"dataframe\">\n",
              "  <thead>\n",
              "    <tr style=\"text-align: right;\">\n",
              "      <th></th>\n",
              "      <th>artist</th>\n",
              "      <th>medium</th>\n",
              "      <th>year</th>\n",
              "    </tr>\n",
              "  </thead>\n",
              "  <tbody>\n",
              "    <tr>\n",
              "      <th>62011</th>\n",
              "      <td>Blake, William</td>\n",
              "      <td>Line engraving and etching on paper</td>\n",
              "      <td>1797.0</td>\n",
              "    </tr>\n",
              "    <tr>\n",
              "      <th>62012</th>\n",
              "      <td>Blake, William</td>\n",
              "      <td>Line engraving and etching on paper</td>\n",
              "      <td>1797.0</td>\n",
              "    </tr>\n",
              "    <tr>\n",
              "      <th>62013</th>\n",
              "      <td>Blake, William</td>\n",
              "      <td>Line engraving and etching on paper</td>\n",
              "      <td>1797.0</td>\n",
              "    </tr>\n",
              "  </tbody>\n",
              "</table>\n",
              "</div>"
            ],
            "text/plain": [
              "               artist                               medium    year\n",
              "62011  Blake, William  Line engraving and etching on paper  1797.0\n",
              "62012  Blake, William  Line engraving and etching on paper  1797.0\n",
              "62013  Blake, William  Line engraving and etching on paper  1797.0"
            ]
          },
          "metadata": {
            "tags": []
          },
          "execution_count": 183
        }
      ]
    },
    {
      "cell_type": "code",
      "metadata": {
        "colab": {
          "base_uri": "https://localhost:8080/",
          "height": 691
        },
        "id": "4q-1JlDPlNuo",
        "outputId": "3c980672-5f92-406a-f93b-29bf72a50a1b"
      },
      "source": [
        "art.loc[art.title.str.contains('\\s$',regex=True)]"
      ],
      "execution_count": null,
      "outputs": [
        {
          "output_type": "execute_result",
          "data": {
            "text/html": [
              "<div>\n",
              "<style scoped>\n",
              "    .dataframe tbody tr th:only-of-type {\n",
              "        vertical-align: middle;\n",
              "    }\n",
              "\n",
              "    .dataframe tbody tr th {\n",
              "        vertical-align: top;\n",
              "    }\n",
              "\n",
              "    .dataframe thead th {\n",
              "        text-align: right;\n",
              "    }\n",
              "</style>\n",
              "<table border=\"1\" class=\"dataframe\">\n",
              "  <thead>\n",
              "    <tr style=\"text-align: right;\">\n",
              "      <th></th>\n",
              "      <th>id</th>\n",
              "      <th>accession_number</th>\n",
              "      <th>artist</th>\n",
              "      <th>artist_role</th>\n",
              "      <th>artist_id</th>\n",
              "      <th>title</th>\n",
              "      <th>date_text</th>\n",
              "      <th>medium</th>\n",
              "      <th>credit_line</th>\n",
              "      <th>year</th>\n",
              "      <th>acquisition_year</th>\n",
              "      <th>dimensions</th>\n",
              "      <th>width</th>\n",
              "      <th>height</th>\n",
              "      <th>depth</th>\n",
              "      <th>units</th>\n",
              "      <th>inscription</th>\n",
              "      <th>thumbnail_copyright</th>\n",
              "      <th>thumbnail</th>\n",
              "      <th>url</th>\n",
              "      <th>height_norm</th>\n",
              "      <th>height_minmax</th>\n",
              "      <th>height_cm</th>\n",
              "    </tr>\n",
              "  </thead>\n",
              "  <tbody>\n",
              "    <tr>\n",
              "      <th>49498</th>\n",
              "      <td>4308</td>\n",
              "      <td>P07466</td>\n",
              "      <td>Hamilton Finlay, Ian</td>\n",
              "      <td>artist</td>\n",
              "      <td>1093</td>\n",
              "      <td>Port-Distinguishing Letters of Scottish Fishin...</td>\n",
              "      <td>1976</td>\n",
              "      <td>Screenprint on ceramic tile</td>\n",
              "      <td>Purchased 1981</td>\n",
              "      <td>1976.0</td>\n",
              "      <td>1981.0</td>\n",
              "      <td>unconfirmed: 153 x 153 mm</td>\n",
              "      <td>153.0</td>\n",
              "      <td>153.0</td>\n",
              "      <td>NaN</td>\n",
              "      <td>mm</td>\n",
              "      <td>NaN</td>\n",
              "      <td>© Estate of Ian Hamilton Finlay</td>\n",
              "      <td>http://www.tate.org.uk/art/images/work/P/P07/P...</td>\n",
              "      <td>http://www.tate.org.uk/art/artworks/hamilton-f...</td>\n",
              "      <td>-0.359521</td>\n",
              "      <td>0.003921</td>\n",
              "      <td>15.3</td>\n",
              "    </tr>\n",
              "    <tr>\n",
              "      <th>50534</th>\n",
              "      <td>2235</td>\n",
              "      <td>P11065</td>\n",
              "      <td>Clarke, Brian</td>\n",
              "      <td>artist</td>\n",
              "      <td>911</td>\n",
              "      <td>Boys</td>\n",
              "      <td>1981</td>\n",
              "      <td>Screenprint on paper</td>\n",
              "      <td>Presented by Paul Beldock 1983</td>\n",
              "      <td>1981.0</td>\n",
              "      <td>1983.0</td>\n",
              "      <td>image: 1003 x 700 mm</td>\n",
              "      <td>1003.0</td>\n",
              "      <td>700.0</td>\n",
              "      <td>NaN</td>\n",
              "      <td>mm</td>\n",
              "      <td>date inscribed</td>\n",
              "      <td>© Brian Clarke. All Rights Reserved 2014 / DACS</td>\n",
              "      <td>http://www.tate.org.uk/art/images/work/P/P11/P...</td>\n",
              "      <td>http://www.tate.org.uk/art/artworks/clarke-boy...</td>\n",
              "      <td>0.657135</td>\n",
              "      <td>0.018510</td>\n",
              "      <td>70.0</td>\n",
              "    </tr>\n",
              "    <tr>\n",
              "      <th>50535</th>\n",
              "      <td>2236</td>\n",
              "      <td>P11066</td>\n",
              "      <td>Clarke, Brian</td>\n",
              "      <td>artist</td>\n",
              "      <td>911</td>\n",
              "      <td>Buildings</td>\n",
              "      <td>1981</td>\n",
              "      <td>Screenprint on paper</td>\n",
              "      <td>Presented by Paul Beldock 1983</td>\n",
              "      <td>1981.0</td>\n",
              "      <td>1983.0</td>\n",
              "      <td>image: 1005 x 698 mm</td>\n",
              "      <td>1005.0</td>\n",
              "      <td>698.0</td>\n",
              "      <td>NaN</td>\n",
              "      <td>mm</td>\n",
              "      <td>date inscribed</td>\n",
              "      <td>© Brian Clarke. All Rights Reserved 2014 / DACS</td>\n",
              "      <td>http://www.tate.org.uk/art/images/work/P/P11/P...</td>\n",
              "      <td>http://www.tate.org.uk/art/artworks/clarke-bui...</td>\n",
              "      <td>0.653418</td>\n",
              "      <td>0.018456</td>\n",
              "      <td>69.8</td>\n",
              "    </tr>\n",
              "    <tr>\n",
              "      <th>50537</th>\n",
              "      <td>2238</td>\n",
              "      <td>P11068</td>\n",
              "      <td>Clarke, Brian</td>\n",
              "      <td>artist</td>\n",
              "      <td>911</td>\n",
              "      <td>Pray for Josquin</td>\n",
              "      <td>1981</td>\n",
              "      <td>Screenprint on paper</td>\n",
              "      <td>Presented by Paul Beldock 1983</td>\n",
              "      <td>1981.0</td>\n",
              "      <td>1983.0</td>\n",
              "      <td>image: 1115 x 688 mm</td>\n",
              "      <td>1115.0</td>\n",
              "      <td>688.0</td>\n",
              "      <td>NaN</td>\n",
              "      <td>mm</td>\n",
              "      <td>date inscribed</td>\n",
              "      <td>© Brian Clarke. All Rights Reserved 2014 / DACS</td>\n",
              "      <td>http://www.tate.org.uk/art/images/work/P/P11/P...</td>\n",
              "      <td>http://www.tate.org.uk/art/artworks/clarke-pra...</td>\n",
              "      <td>0.634832</td>\n",
              "      <td>0.018190</td>\n",
              "      <td>68.8</td>\n",
              "    </tr>\n",
              "    <tr>\n",
              "      <th>53186</th>\n",
              "      <td>21168</td>\n",
              "      <td>P77679</td>\n",
              "      <td>Bourgeois, Louise</td>\n",
              "      <td>artist</td>\n",
              "      <td>2351</td>\n",
              "      <td>Untitled (Safety Pins)</td>\n",
              "      <td>1991</td>\n",
              "      <td>Drypoint on paper</td>\n",
              "      <td>Purchased 1994</td>\n",
              "      <td>1991.0</td>\n",
              "      <td>1994.0</td>\n",
              "      <td>image: 303 x 379 mm</td>\n",
              "      <td>303.0</td>\n",
              "      <td>379.0</td>\n",
              "      <td>NaN</td>\n",
              "      <td>mm</td>\n",
              "      <td>NaN</td>\n",
              "      <td>© The Easton Foundation</td>\n",
              "      <td>http://www.tate.org.uk/art/images/work/P/P77/P...</td>\n",
              "      <td>http://www.tate.org.uk/art/artworks/bourgeois-...</td>\n",
              "      <td>0.060523</td>\n",
              "      <td>0.009948</td>\n",
              "      <td>37.9</td>\n",
              "    </tr>\n",
              "    <tr>\n",
              "      <th>56283</th>\n",
              "      <td>5826</td>\n",
              "      <td>T00705</td>\n",
              "      <td>Hamilton, Richard</td>\n",
              "      <td>artist</td>\n",
              "      <td>1244</td>\n",
              "      <td>Towards a definitive statement on the coming t...</td>\n",
              "      <td>1962</td>\n",
              "      <td>Oil paint, cellulose paint and printed paper o...</td>\n",
              "      <td>Purchased 1964</td>\n",
              "      <td>1962.0</td>\n",
              "      <td>1964.0</td>\n",
              "      <td>support: 610 x 813 mm frame: 809 x 1011 x 810 mm</td>\n",
              "      <td>610.0</td>\n",
              "      <td>813.0</td>\n",
              "      <td>NaN</td>\n",
              "      <td>mm</td>\n",
              "      <td>date inscribed</td>\n",
              "      <td>© The estate of Richard Hamilton</td>\n",
              "      <td>http://www.tate.org.uk/art/images/work/T/T00/T...</td>\n",
              "      <td>http://www.tate.org.uk/art/artworks/hamilton-t...</td>\n",
              "      <td>0.867158</td>\n",
              "      <td>0.021523</td>\n",
              "      <td>81.3</td>\n",
              "    </tr>\n",
              "    <tr>\n",
              "      <th>67409</th>\n",
              "      <td>88191</td>\n",
              "      <td>T12064</td>\n",
              "      <td>Leach, David</td>\n",
              "      <td>artist</td>\n",
              "      <td>7651</td>\n",
              "      <td>2 Standard Ware Mead Cups</td>\n",
              "      <td>1945–55</td>\n",
              "      <td>Ochre porcelain</td>\n",
              "      <td>Accepted by HM Government in lieu of inheritan...</td>\n",
              "      <td>1945.0</td>\n",
              "      <td>2005.0</td>\n",
              "      <td>object: 70 x 80 x 80 mm</td>\n",
              "      <td>70.0</td>\n",
              "      <td>80.0</td>\n",
              "      <td>80.0</td>\n",
              "      <td>mm</td>\n",
              "      <td>NaN</td>\n",
              "      <td>© The estate of Bernard Leach</td>\n",
              "      <td>http://www.tate.org.uk/art/images/work/T/T12/T...</td>\n",
              "      <td>http://www.tate.org.uk/art/artworks/leach-2-st...</td>\n",
              "      <td>-0.495200</td>\n",
              "      <td>0.001974</td>\n",
              "      <td>8.0</td>\n",
              "    </tr>\n",
              "    <tr>\n",
              "      <th>67432</th>\n",
              "      <td>88215</td>\n",
              "      <td>T12087</td>\n",
              "      <td>Leach, Bernard</td>\n",
              "      <td>artist</td>\n",
              "      <td>1478</td>\n",
              "      <td>Bowl</td>\n",
              "      <td>c.1960</td>\n",
              "      <td>Porcelain</td>\n",
              "      <td>Accepted by HM Government in lieu of inheritan...</td>\n",
              "      <td>1960.0</td>\n",
              "      <td>2005.0</td>\n",
              "      <td>object: 50 x 140 x 140 mm</td>\n",
              "      <td>50.0</td>\n",
              "      <td>140.0</td>\n",
              "      <td>140.0</td>\n",
              "      <td>mm</td>\n",
              "      <td>NaN</td>\n",
              "      <td>© The estate of Bernard Leach</td>\n",
              "      <td>http://www.tate.org.uk/art/images/work/T/T12/T...</td>\n",
              "      <td>http://www.tate.org.uk/art/artworks/leach-bowl...</td>\n",
              "      <td>-0.383683</td>\n",
              "      <td>0.003574</td>\n",
              "      <td>14.0</td>\n",
              "    </tr>\n",
              "  </tbody>\n",
              "</table>\n",
              "</div>"
            ],
            "text/plain": [
              "          id accession_number  ... height_minmax height_cm\n",
              "49498   4308           P07466  ...      0.003921      15.3\n",
              "50534   2235           P11065  ...      0.018510      70.0\n",
              "50535   2236           P11066  ...      0.018456      69.8\n",
              "50537   2238           P11068  ...      0.018190      68.8\n",
              "53186  21168           P77679  ...      0.009948      37.9\n",
              "56283   5826           T00705  ...      0.021523      81.3\n",
              "67409  88191           T12064  ...      0.001974       8.0\n",
              "67432  88215           T12087  ...      0.003574      14.0\n",
              "\n",
              "[8 rows x 23 columns]"
            ]
          },
          "metadata": {
            "tags": []
          },
          "execution_count": 184
        }
      ]
    },
    {
      "cell_type": "code",
      "metadata": {
        "id": "3I-F-n_RlNuo"
      },
      "source": [
        "art.title = art.title.str.strip() #trim"
      ],
      "execution_count": null,
      "outputs": []
    },
    {
      "cell_type": "code",
      "metadata": {
        "id": "47bdcIAGlNuo"
      },
      "source": [
        ""
      ],
      "execution_count": null,
      "outputs": []
    },
    {
      "cell_type": "code",
      "metadata": {
        "colab": {
          "base_uri": "https://localhost:8080/"
        },
        "id": "FOQFaXdLlNuo",
        "outputId": "e6add41e-2af6-404f-ea15-bd5bd2682f37"
      },
      "source": [
        "pd.isna(art.loc[:,'date_text'])"
      ],
      "execution_count": null,
      "outputs": [
        {
          "output_type": "execute_result",
          "data": {
            "text/plain": [
              "0        False\n",
              "1        False\n",
              "2        False\n",
              "3        False\n",
              "4        False\n",
              "         ...  \n",
              "69196    False\n",
              "69197    False\n",
              "69198    False\n",
              "69199    False\n",
              "69200    False\n",
              "Name: date_text, Length: 69201, dtype: bool"
            ]
          },
          "metadata": {
            "tags": []
          },
          "execution_count": 186
        }
      ]
    },
    {
      "cell_type": "code",
      "metadata": {
        "id": "Ro-etmNslNur"
      },
      "source": [
        "from numpy import nan\n",
        "#art.replace({'date_text':{'date not known': nan}},inplace=True)\n",
        "art.loc[art.date_text=='date not known',['date_text']] = nan"
      ],
      "execution_count": null,
      "outputs": []
    },
    {
      "cell_type": "code",
      "metadata": {
        "colab": {
          "base_uri": "https://localhost:8080/",
          "height": 1000
        },
        "id": "Ob1O7xf9lNus",
        "outputId": "ea5be2f8-c3d6-4459-cc49-382b3434a2ca"
      },
      "source": [
        "art.loc[art.year.notnull() & art.year.astype(str).str.contains('^[0-9]')]"
      ],
      "execution_count": null,
      "outputs": [
        {
          "output_type": "execute_result",
          "data": {
            "text/html": [
              "<div>\n",
              "<style scoped>\n",
              "    .dataframe tbody tr th:only-of-type {\n",
              "        vertical-align: middle;\n",
              "    }\n",
              "\n",
              "    .dataframe tbody tr th {\n",
              "        vertical-align: top;\n",
              "    }\n",
              "\n",
              "    .dataframe thead th {\n",
              "        text-align: right;\n",
              "    }\n",
              "</style>\n",
              "<table border=\"1\" class=\"dataframe\">\n",
              "  <thead>\n",
              "    <tr style=\"text-align: right;\">\n",
              "      <th></th>\n",
              "      <th>id</th>\n",
              "      <th>accession_number</th>\n",
              "      <th>artist</th>\n",
              "      <th>artist_role</th>\n",
              "      <th>artist_id</th>\n",
              "      <th>title</th>\n",
              "      <th>date_text</th>\n",
              "      <th>medium</th>\n",
              "      <th>credit_line</th>\n",
              "      <th>year</th>\n",
              "      <th>acquisition_year</th>\n",
              "      <th>dimensions</th>\n",
              "      <th>width</th>\n",
              "      <th>height</th>\n",
              "      <th>depth</th>\n",
              "      <th>units</th>\n",
              "      <th>inscription</th>\n",
              "      <th>thumbnail_copyright</th>\n",
              "      <th>thumbnail</th>\n",
              "      <th>url</th>\n",
              "      <th>height_norm</th>\n",
              "      <th>height_minmax</th>\n",
              "      <th>height_cm</th>\n",
              "    </tr>\n",
              "  </thead>\n",
              "  <tbody>\n",
              "    <tr>\n",
              "      <th>2</th>\n",
              "      <td>1037</td>\n",
              "      <td>A00003</td>\n",
              "      <td>Blake, Robert</td>\n",
              "      <td>artist</td>\n",
              "      <td>38</td>\n",
              "      <td>The Preaching of Warning. Verso: An Old Man En...</td>\n",
              "      <td>?c.1785</td>\n",
              "      <td>Graphite on paper. Verso: graphite on paper</td>\n",
              "      <td>Presented by Mrs John Richmond 1922</td>\n",
              "      <td>1785.0</td>\n",
              "      <td>1922.0</td>\n",
              "      <td>support: 343 x 467 mm</td>\n",
              "      <td>343.0</td>\n",
              "      <td>467.0</td>\n",
              "      <td>NaN</td>\n",
              "      <td>mm</td>\n",
              "      <td>NaN</td>\n",
              "      <td>NaN</td>\n",
              "      <td>http://www.tate.org.uk/art/images/work/A/A00/A...</td>\n",
              "      <td>http://www.tate.org.uk/art/artworks/blake-the-...</td>\n",
              "      <td>0.224081</td>\n",
              "      <td>0.012295</td>\n",
              "      <td>46.7</td>\n",
              "    </tr>\n",
              "    <tr>\n",
              "      <th>4</th>\n",
              "      <td>1039</td>\n",
              "      <td>A00005</td>\n",
              "      <td>Blake, William</td>\n",
              "      <td>artist</td>\n",
              "      <td>39</td>\n",
              "      <td>The Circle of the Lustful: Francesca da Rimini...</td>\n",
              "      <td>1826–7, reprinted 1892</td>\n",
              "      <td>Line engraving on paper</td>\n",
              "      <td>Purchased with the assistance of a special gra...</td>\n",
              "      <td>1826.0</td>\n",
              "      <td>1919.0</td>\n",
              "      <td>image: 243 x 335 mm</td>\n",
              "      <td>243.0</td>\n",
              "      <td>335.0</td>\n",
              "      <td>NaN</td>\n",
              "      <td>mm</td>\n",
              "      <td>NaN</td>\n",
              "      <td>NaN</td>\n",
              "      <td>http://www.tate.org.uk/art/images/work/A/A00/A...</td>\n",
              "      <td>http://www.tate.org.uk/art/artworks/blake-the-...</td>\n",
              "      <td>-0.021255</td>\n",
              "      <td>0.008775</td>\n",
              "      <td>33.5</td>\n",
              "    </tr>\n",
              "    <tr>\n",
              "      <th>5</th>\n",
              "      <td>1040</td>\n",
              "      <td>A00006</td>\n",
              "      <td>Blake, William</td>\n",
              "      <td>artist</td>\n",
              "      <td>39</td>\n",
              "      <td>Ciampolo the Barrator Tormented by the Devils</td>\n",
              "      <td>1826–7, reprinted 1892</td>\n",
              "      <td>Line engraving on paper</td>\n",
              "      <td>Purchased with the assistance of a special gra...</td>\n",
              "      <td>1826.0</td>\n",
              "      <td>1919.0</td>\n",
              "      <td>image: 240 x 338 mm</td>\n",
              "      <td>240.0</td>\n",
              "      <td>338.0</td>\n",
              "      <td>NaN</td>\n",
              "      <td>mm</td>\n",
              "      <td>NaN</td>\n",
              "      <td>NaN</td>\n",
              "      <td>http://www.tate.org.uk/art/images/work/A/A00/A...</td>\n",
              "      <td>http://www.tate.org.uk/art/artworks/blake-ciam...</td>\n",
              "      <td>-0.015680</td>\n",
              "      <td>0.008855</td>\n",
              "      <td>33.8</td>\n",
              "    </tr>\n",
              "    <tr>\n",
              "      <th>6</th>\n",
              "      <td>1041</td>\n",
              "      <td>A00007</td>\n",
              "      <td>Blake, William</td>\n",
              "      <td>artist</td>\n",
              "      <td>39</td>\n",
              "      <td>The Baffled Devils Fighting</td>\n",
              "      <td>1826–7, reprinted 1892</td>\n",
              "      <td>Line engraving on paper</td>\n",
              "      <td>Purchased with the assistance of a special gra...</td>\n",
              "      <td>1826.0</td>\n",
              "      <td>1919.0</td>\n",
              "      <td>image: 242 x 334 mm</td>\n",
              "      <td>242.0</td>\n",
              "      <td>334.0</td>\n",
              "      <td>NaN</td>\n",
              "      <td>mm</td>\n",
              "      <td>NaN</td>\n",
              "      <td>NaN</td>\n",
              "      <td>http://www.tate.org.uk/art/images/work/A/A00/A...</td>\n",
              "      <td>http://www.tate.org.uk/art/artworks/blake-the-...</td>\n",
              "      <td>-0.023114</td>\n",
              "      <td>0.008748</td>\n",
              "      <td>33.4</td>\n",
              "    </tr>\n",
              "    <tr>\n",
              "      <th>7</th>\n",
              "      <td>1042</td>\n",
              "      <td>A00008</td>\n",
              "      <td>Blake, William</td>\n",
              "      <td>artist</td>\n",
              "      <td>39</td>\n",
              "      <td>The Six-Footed Serpent Attacking Agnolo Brunel...</td>\n",
              "      <td>1826–7, reprinted 1892</td>\n",
              "      <td>Line engraving on paper</td>\n",
              "      <td>Purchased with the assistance of a special gra...</td>\n",
              "      <td>1826.0</td>\n",
              "      <td>1919.0</td>\n",
              "      <td>image: 246 x 340 mm</td>\n",
              "      <td>246.0</td>\n",
              "      <td>340.0</td>\n",
              "      <td>NaN</td>\n",
              "      <td>mm</td>\n",
              "      <td>NaN</td>\n",
              "      <td>NaN</td>\n",
              "      <td>http://www.tate.org.uk/art/images/work/A/A00/A...</td>\n",
              "      <td>http://www.tate.org.uk/art/artworks/blake-the-...</td>\n",
              "      <td>-0.011962</td>\n",
              "      <td>0.008908</td>\n",
              "      <td>34.0</td>\n",
              "    </tr>\n",
              "    <tr>\n",
              "      <th>...</th>\n",
              "      <td>...</td>\n",
              "      <td>...</td>\n",
              "      <td>...</td>\n",
              "      <td>...</td>\n",
              "      <td>...</td>\n",
              "      <td>...</td>\n",
              "      <td>...</td>\n",
              "      <td>...</td>\n",
              "      <td>...</td>\n",
              "      <td>...</td>\n",
              "      <td>...</td>\n",
              "      <td>...</td>\n",
              "      <td>...</td>\n",
              "      <td>...</td>\n",
              "      <td>...</td>\n",
              "      <td>...</td>\n",
              "      <td>...</td>\n",
              "      <td>...</td>\n",
              "      <td>...</td>\n",
              "      <td>...</td>\n",
              "      <td>...</td>\n",
              "      <td>...</td>\n",
              "      <td>...</td>\n",
              "    </tr>\n",
              "    <tr>\n",
              "      <th>69196</th>\n",
              "      <td>122960</td>\n",
              "      <td>T13865</td>\n",
              "      <td>P-Orridge, Genesis</td>\n",
              "      <td>artist</td>\n",
              "      <td>16646</td>\n",
              "      <td>Larvae (from Tampax Romana)</td>\n",
              "      <td>1975</td>\n",
              "      <td>Perspex, Wood, hairpiece, tampon and human blood</td>\n",
              "      <td>Transferred from Tate Archive 2012</td>\n",
              "      <td>1975.0</td>\n",
              "      <td>2013.0</td>\n",
              "      <td>object: 305 x 305 x 135 mm</td>\n",
              "      <td>305.0</td>\n",
              "      <td>305.0</td>\n",
              "      <td>135.0</td>\n",
              "      <td>mm</td>\n",
              "      <td>NaN</td>\n",
              "      <td>NaN</td>\n",
              "      <td>NaN</td>\n",
              "      <td>http://www.tate.org.uk/art/artworks/p-orridge-...</td>\n",
              "      <td>-0.077013</td>\n",
              "      <td>0.007975</td>\n",
              "      <td>30.5</td>\n",
              "    </tr>\n",
              "    <tr>\n",
              "      <th>69197</th>\n",
              "      <td>122961</td>\n",
              "      <td>T13866</td>\n",
              "      <td>P-Orridge, Genesis</td>\n",
              "      <td>artist</td>\n",
              "      <td>16646</td>\n",
              "      <td>Living Womb (from Tampax Romana)</td>\n",
              "      <td>1976</td>\n",
              "      <td>Wood, Perspex, plastic, photograph on paper, t...</td>\n",
              "      <td>Transferred from Tate Archive 2012</td>\n",
              "      <td>1976.0</td>\n",
              "      <td>2013.0</td>\n",
              "      <td>object: 305 x 305 x 135 mm</td>\n",
              "      <td>305.0</td>\n",
              "      <td>305.0</td>\n",
              "      <td>135.0</td>\n",
              "      <td>mm</td>\n",
              "      <td>NaN</td>\n",
              "      <td>NaN</td>\n",
              "      <td>NaN</td>\n",
              "      <td>http://www.tate.org.uk/art/artworks/p-orridge-...</td>\n",
              "      <td>-0.077013</td>\n",
              "      <td>0.007975</td>\n",
              "      <td>30.5</td>\n",
              "    </tr>\n",
              "    <tr>\n",
              "      <th>69198</th>\n",
              "      <td>121181</td>\n",
              "      <td>T13867</td>\n",
              "      <td>Hatoum, Mona</td>\n",
              "      <td>artist</td>\n",
              "      <td>2365</td>\n",
              "      <td>Present Tense</td>\n",
              "      <td>1996</td>\n",
              "      <td>Soap and glass beads</td>\n",
              "      <td>Presented by Tate Members 2013</td>\n",
              "      <td>1996.0</td>\n",
              "      <td>2013.0</td>\n",
              "      <td>displayed: 45 x 2410 x 2990 mm</td>\n",
              "      <td>45.0</td>\n",
              "      <td>2410.0</td>\n",
              "      <td>2990.0</td>\n",
              "      <td>mm</td>\n",
              "      <td>NaN</td>\n",
              "      <td>NaN</td>\n",
              "      <td>NaN</td>\n",
              "      <td>http://www.tate.org.uk/art/artworks/hatoum-pre...</td>\n",
              "      <td>3.835350</td>\n",
              "      <td>0.064117</td>\n",
              "      <td>241.0</td>\n",
              "    </tr>\n",
              "    <tr>\n",
              "      <th>69199</th>\n",
              "      <td>112306</td>\n",
              "      <td>T13868</td>\n",
              "      <td>Creed, Martin</td>\n",
              "      <td>artist</td>\n",
              "      <td>2760</td>\n",
              "      <td>Work No. 227: The lights going on and off</td>\n",
              "      <td>2000</td>\n",
              "      <td>Gallery lighting</td>\n",
              "      <td>Purchased with funds provided by Tate Members,...</td>\n",
              "      <td>2000.0</td>\n",
              "      <td>2013.0</td>\n",
              "      <td>Overall display dimensions variable</td>\n",
              "      <td>NaN</td>\n",
              "      <td>NaN</td>\n",
              "      <td>NaN</td>\n",
              "      <td>NaN</td>\n",
              "      <td>NaN</td>\n",
              "      <td>NaN</td>\n",
              "      <td>NaN</td>\n",
              "      <td>http://www.tate.org.uk/art/artworks/creed-work...</td>\n",
              "      <td>NaN</td>\n",
              "      <td>NaN</td>\n",
              "      <td>NaN</td>\n",
              "    </tr>\n",
              "    <tr>\n",
              "      <th>69200</th>\n",
              "      <td>127035</td>\n",
              "      <td>T13869</td>\n",
              "      <td>Brunias, Agostino</td>\n",
              "      <td>artist</td>\n",
              "      <td>3824</td>\n",
              "      <td>Dancing Scene in the West Indies</td>\n",
              "      <td>1764–96</td>\n",
              "      <td>Oil paint on canvas</td>\n",
              "      <td>Purchased with assistance from Tate Patrons an...</td>\n",
              "      <td>1764.0</td>\n",
              "      <td>2013.0</td>\n",
              "      <td>unconfirmed: 508 x 660 mm</td>\n",
              "      <td>508.0</td>\n",
              "      <td>660.0</td>\n",
              "      <td>NaN</td>\n",
              "      <td>mm</td>\n",
              "      <td>NaN</td>\n",
              "      <td>NaN</td>\n",
              "      <td>http://www.tate.org.uk/art/images/work/T/T13/T...</td>\n",
              "      <td>http://www.tate.org.uk/art/artworks/brunias-da...</td>\n",
              "      <td>0.582791</td>\n",
              "      <td>0.017443</td>\n",
              "      <td>66.0</td>\n",
              "    </tr>\n",
              "  </tbody>\n",
              "</table>\n",
              "<p>63804 rows × 23 columns</p>\n",
              "</div>"
            ],
            "text/plain": [
              "           id accession_number  ... height_minmax height_cm\n",
              "2        1037           A00003  ...      0.012295      46.7\n",
              "4        1039           A00005  ...      0.008775      33.5\n",
              "5        1040           A00006  ...      0.008855      33.8\n",
              "6        1041           A00007  ...      0.008748      33.4\n",
              "7        1042           A00008  ...      0.008908      34.0\n",
              "...       ...              ...  ...           ...       ...\n",
              "69196  122960           T13865  ...      0.007975      30.5\n",
              "69197  122961           T13866  ...      0.007975      30.5\n",
              "69198  121181           T13867  ...      0.064117     241.0\n",
              "69199  112306           T13868  ...           NaN       NaN\n",
              "69200  127035           T13869  ...      0.017443      66.0\n",
              "\n",
              "[63804 rows x 23 columns]"
            ]
          },
          "metadata": {
            "tags": []
          },
          "execution_count": 195
        }
      ]
    },
    {
      "cell_type": "code",
      "metadata": {
        "id": "ZTMHu2VelNut"
      },
      "source": [
        "art.loc[art.year=='no date',['year']] = nan"
      ],
      "execution_count": null,
      "outputs": []
    },
    {
      "cell_type": "code",
      "metadata": {
        "id": "cm-SXafvlNut"
      },
      "source": [
        "art.fillna(value={'depth':0},inplace=True)"
      ],
      "execution_count": null,
      "outputs": []
    },
    {
      "cell_type": "code",
      "metadata": {
        "colab": {
          "base_uri": "https://localhost:8080/",
          "height": 793
        },
        "id": "n0Y_jVInlNut",
        "outputId": "4571ea4a-4f90-4348-be50-0db86a0fc77f"
      },
      "source": [
        "art.dropna()"
      ],
      "execution_count": null,
      "outputs": [
        {
          "output_type": "execute_result",
          "data": {
            "text/html": [
              "<div>\n",
              "<style scoped>\n",
              "    .dataframe tbody tr th:only-of-type {\n",
              "        vertical-align: middle;\n",
              "    }\n",
              "\n",
              "    .dataframe tbody tr th {\n",
              "        vertical-align: top;\n",
              "    }\n",
              "\n",
              "    .dataframe thead th {\n",
              "        text-align: right;\n",
              "    }\n",
              "</style>\n",
              "<table border=\"1\" class=\"dataframe\">\n",
              "  <thead>\n",
              "    <tr style=\"text-align: right;\">\n",
              "      <th></th>\n",
              "      <th>id</th>\n",
              "      <th>accession_number</th>\n",
              "      <th>artist</th>\n",
              "      <th>artist_role</th>\n",
              "      <th>artist_id</th>\n",
              "      <th>title</th>\n",
              "      <th>date_text</th>\n",
              "      <th>medium</th>\n",
              "      <th>credit_line</th>\n",
              "      <th>year</th>\n",
              "      <th>acquisition_year</th>\n",
              "      <th>dimensions</th>\n",
              "      <th>width</th>\n",
              "      <th>height</th>\n",
              "      <th>depth</th>\n",
              "      <th>units</th>\n",
              "      <th>inscription</th>\n",
              "      <th>thumbnail_copyright</th>\n",
              "      <th>thumbnail</th>\n",
              "      <th>url</th>\n",
              "      <th>height_norm</th>\n",
              "      <th>height_minmax</th>\n",
              "      <th>height_cm</th>\n",
              "    </tr>\n",
              "  </thead>\n",
              "  <tbody>\n",
              "    <tr>\n",
              "      <th>1025</th>\n",
              "      <td>550</td>\n",
              "      <td>A01029</td>\n",
              "      <td>Ardizzone, Edward</td>\n",
              "      <td>artist</td>\n",
              "      <td>659</td>\n",
              "      <td>At the Brasserie</td>\n",
              "      <td>1931</td>\n",
              "      <td>Watercolour and ink on paper</td>\n",
              "      <td>Purchased 1940</td>\n",
              "      <td>1931.0</td>\n",
              "      <td>1940.0</td>\n",
              "      <td>support: 152 x 222 mm</td>\n",
              "      <td>152.0</td>\n",
              "      <td>222.0</td>\n",
              "      <td>0.0</td>\n",
              "      <td>mm</td>\n",
              "      <td>date inscribed</td>\n",
              "      <td>© Tate</td>\n",
              "      <td>http://www.tate.org.uk/art/images/work/A/A01/A...</td>\n",
              "      <td>http://www.tate.org.uk/art/artworks/ardizzone-...</td>\n",
              "      <td>-0.231278</td>\n",
              "      <td>0.005761</td>\n",
              "      <td>22.2</td>\n",
              "    </tr>\n",
              "    <tr>\n",
              "      <th>1026</th>\n",
              "      <td>551</td>\n",
              "      <td>A01030</td>\n",
              "      <td>Ardizzone, Edward</td>\n",
              "      <td>artist</td>\n",
              "      <td>659</td>\n",
              "      <td>The Meeting</td>\n",
              "      <td>1931</td>\n",
              "      <td>Watercolour and ink on paper</td>\n",
              "      <td>Purchased 1940</td>\n",
              "      <td>1931.0</td>\n",
              "      <td>1940.0</td>\n",
              "      <td>support: 190 x 159 mm</td>\n",
              "      <td>190.0</td>\n",
              "      <td>159.0</td>\n",
              "      <td>0.0</td>\n",
              "      <td>mm</td>\n",
              "      <td>date inscribed</td>\n",
              "      <td>© Tate</td>\n",
              "      <td>http://www.tate.org.uk/art/images/work/A/A01/A...</td>\n",
              "      <td>http://www.tate.org.uk/art/artworks/ardizzone-...</td>\n",
              "      <td>-0.348370</td>\n",
              "      <td>0.004081</td>\n",
              "      <td>15.9</td>\n",
              "    </tr>\n",
              "    <tr>\n",
              "      <th>1027</th>\n",
              "      <td>552</td>\n",
              "      <td>A01031</td>\n",
              "      <td>Ardizzone, Edward</td>\n",
              "      <td>artist</td>\n",
              "      <td>659</td>\n",
              "      <td>The Arrival</td>\n",
              "      <td>1931</td>\n",
              "      <td>Watercolour and ink on paper</td>\n",
              "      <td>Purchased 1940</td>\n",
              "      <td>1931.0</td>\n",
              "      <td>1940.0</td>\n",
              "      <td>support: 152 x 184 mm</td>\n",
              "      <td>152.0</td>\n",
              "      <td>184.0</td>\n",
              "      <td>0.0</td>\n",
              "      <td>mm</td>\n",
              "      <td>date inscribed</td>\n",
              "      <td>© Tate</td>\n",
              "      <td>http://www.tate.org.uk/art/images/work/A/A01/A...</td>\n",
              "      <td>http://www.tate.org.uk/art/artworks/ardizzone-...</td>\n",
              "      <td>-0.301905</td>\n",
              "      <td>0.004747</td>\n",
              "      <td>18.4</td>\n",
              "    </tr>\n",
              "    <tr>\n",
              "      <th>1028</th>\n",
              "      <td>553</td>\n",
              "      <td>A01032</td>\n",
              "      <td>Ardizzone, Edward</td>\n",
              "      <td>artist</td>\n",
              "      <td>659</td>\n",
              "      <td>The Bedroom</td>\n",
              "      <td>1931</td>\n",
              "      <td>Watercolour and ink on paper</td>\n",
              "      <td>Purchased 1940</td>\n",
              "      <td>1931.0</td>\n",
              "      <td>1940.0</td>\n",
              "      <td>support: 171 x 229 mm</td>\n",
              "      <td>171.0</td>\n",
              "      <td>229.0</td>\n",
              "      <td>0.0</td>\n",
              "      <td>mm</td>\n",
              "      <td>date inscribed</td>\n",
              "      <td>© Tate</td>\n",
              "      <td>http://www.tate.org.uk/art/images/work/A/A01/A...</td>\n",
              "      <td>http://www.tate.org.uk/art/artworks/ardizzone-...</td>\n",
              "      <td>-0.218267</td>\n",
              "      <td>0.005948</td>\n",
              "      <td>22.9</td>\n",
              "    </tr>\n",
              "    <tr>\n",
              "      <th>1029</th>\n",
              "      <td>554</td>\n",
              "      <td>A01033</td>\n",
              "      <td>Ardizzone, Edward</td>\n",
              "      <td>artist</td>\n",
              "      <td>659</td>\n",
              "      <td>The Departure</td>\n",
              "      <td>1931</td>\n",
              "      <td>Watercolour and ink on paper</td>\n",
              "      <td>Purchased 1940</td>\n",
              "      <td>1931.0</td>\n",
              "      <td>1940.0</td>\n",
              "      <td>support: 171 x 210 mm</td>\n",
              "      <td>171.0</td>\n",
              "      <td>210.0</td>\n",
              "      <td>0.0</td>\n",
              "      <td>mm</td>\n",
              "      <td>date inscribed</td>\n",
              "      <td>© Tate</td>\n",
              "      <td>http://www.tate.org.uk/art/images/work/A/A01/A...</td>\n",
              "      <td>http://www.tate.org.uk/art/artworks/ardizzone-...</td>\n",
              "      <td>-0.253581</td>\n",
              "      <td>0.005441</td>\n",
              "      <td>21.0</td>\n",
              "    </tr>\n",
              "    <tr>\n",
              "      <th>...</th>\n",
              "      <td>...</td>\n",
              "      <td>...</td>\n",
              "      <td>...</td>\n",
              "      <td>...</td>\n",
              "      <td>...</td>\n",
              "      <td>...</td>\n",
              "      <td>...</td>\n",
              "      <td>...</td>\n",
              "      <td>...</td>\n",
              "      <td>...</td>\n",
              "      <td>...</td>\n",
              "      <td>...</td>\n",
              "      <td>...</td>\n",
              "      <td>...</td>\n",
              "      <td>...</td>\n",
              "      <td>...</td>\n",
              "      <td>...</td>\n",
              "      <td>...</td>\n",
              "      <td>...</td>\n",
              "      <td>...</td>\n",
              "      <td>...</td>\n",
              "      <td>...</td>\n",
              "      <td>...</td>\n",
              "    </tr>\n",
              "    <tr>\n",
              "      <th>67576</th>\n",
              "      <td>89914</td>\n",
              "      <td>T12231</td>\n",
              "      <td>Moon, Jeremy</td>\n",
              "      <td>artist</td>\n",
              "      <td>1656</td>\n",
              "      <td>Drawing [18/7/71]</td>\n",
              "      <td>1971</td>\n",
              "      <td>Graphite and pastel on paper</td>\n",
              "      <td>Purchased 2006</td>\n",
              "      <td>1971.0</td>\n",
              "      <td>2006.0</td>\n",
              "      <td>support: 203 x 253 mm</td>\n",
              "      <td>203.0</td>\n",
              "      <td>253.0</td>\n",
              "      <td>0.0</td>\n",
              "      <td>mm</td>\n",
              "      <td>date inscribed</td>\n",
              "      <td>© Estate of Jeremy Moon</td>\n",
              "      <td>http://www.tate.org.uk/art/images/work/T/T12/T...</td>\n",
              "      <td>http://www.tate.org.uk/art/artworks/moon-drawi...</td>\n",
              "      <td>-0.173661</td>\n",
              "      <td>0.006588</td>\n",
              "      <td>25.3</td>\n",
              "    </tr>\n",
              "    <tr>\n",
              "      <th>67577</th>\n",
              "      <td>89915</td>\n",
              "      <td>T12232</td>\n",
              "      <td>Moon, Jeremy</td>\n",
              "      <td>artist</td>\n",
              "      <td>1656</td>\n",
              "      <td>Drawing [13/12/71]</td>\n",
              "      <td>1971</td>\n",
              "      <td>Graphite and pastel on paper</td>\n",
              "      <td>Purchased 2006</td>\n",
              "      <td>1971.0</td>\n",
              "      <td>2006.0</td>\n",
              "      <td>support: 203 x 253 mm</td>\n",
              "      <td>203.0</td>\n",
              "      <td>253.0</td>\n",
              "      <td>0.0</td>\n",
              "      <td>mm</td>\n",
              "      <td>date inscribed</td>\n",
              "      <td>© Estate of Jeremy Moon</td>\n",
              "      <td>http://www.tate.org.uk/art/images/work/T/T12/T...</td>\n",
              "      <td>http://www.tate.org.uk/art/artworks/moon-drawi...</td>\n",
              "      <td>-0.173661</td>\n",
              "      <td>0.006588</td>\n",
              "      <td>25.3</td>\n",
              "    </tr>\n",
              "    <tr>\n",
              "      <th>67578</th>\n",
              "      <td>89916</td>\n",
              "      <td>T12233</td>\n",
              "      <td>Moon, Jeremy</td>\n",
              "      <td>artist</td>\n",
              "      <td>1656</td>\n",
              "      <td>Drawing [25/5/73]</td>\n",
              "      <td>1973</td>\n",
              "      <td>Graphite and pastel on paper</td>\n",
              "      <td>Purchased with assistance from Anne Best 2006</td>\n",
              "      <td>1973.0</td>\n",
              "      <td>2006.0</td>\n",
              "      <td>support: 203 x 253 mm</td>\n",
              "      <td>203.0</td>\n",
              "      <td>253.0</td>\n",
              "      <td>0.0</td>\n",
              "      <td>mm</td>\n",
              "      <td>date inscribed</td>\n",
              "      <td>© Estate of Jeremy Moon</td>\n",
              "      <td>http://www.tate.org.uk/art/images/work/T/T12/T...</td>\n",
              "      <td>http://www.tate.org.uk/art/artworks/moon-drawi...</td>\n",
              "      <td>-0.173661</td>\n",
              "      <td>0.006588</td>\n",
              "      <td>25.3</td>\n",
              "    </tr>\n",
              "    <tr>\n",
              "      <th>67579</th>\n",
              "      <td>89917</td>\n",
              "      <td>T12234</td>\n",
              "      <td>Moon, Jeremy</td>\n",
              "      <td>artist</td>\n",
              "      <td>1656</td>\n",
              "      <td>Drawing [24/6/74]</td>\n",
              "      <td>1973</td>\n",
              "      <td>Graphite and pastel on paper</td>\n",
              "      <td>Purchased 2006</td>\n",
              "      <td>1973.0</td>\n",
              "      <td>2006.0</td>\n",
              "      <td>support: 203 x 253 mm</td>\n",
              "      <td>203.0</td>\n",
              "      <td>253.0</td>\n",
              "      <td>0.0</td>\n",
              "      <td>mm</td>\n",
              "      <td>date inscribed</td>\n",
              "      <td>© Estate of Jeremy Moon</td>\n",
              "      <td>http://www.tate.org.uk/art/images/work/T/T12/T...</td>\n",
              "      <td>http://www.tate.org.uk/art/artworks/moon-drawi...</td>\n",
              "      <td>-0.173661</td>\n",
              "      <td>0.006588</td>\n",
              "      <td>25.3</td>\n",
              "    </tr>\n",
              "    <tr>\n",
              "      <th>67580</th>\n",
              "      <td>89918</td>\n",
              "      <td>T12235</td>\n",
              "      <td>Moon, Jeremy</td>\n",
              "      <td>artist</td>\n",
              "      <td>1656</td>\n",
              "      <td>Drawing [19/2/73]</td>\n",
              "      <td>1973</td>\n",
              "      <td>Graphite and pastel on paper</td>\n",
              "      <td>Purchased 2006</td>\n",
              "      <td>1973.0</td>\n",
              "      <td>2006.0</td>\n",
              "      <td>support: 203 x 253 mm</td>\n",
              "      <td>203.0</td>\n",
              "      <td>253.0</td>\n",
              "      <td>0.0</td>\n",
              "      <td>mm</td>\n",
              "      <td>date inscribed</td>\n",
              "      <td>© Estate of Jeremy Moon</td>\n",
              "      <td>http://www.tate.org.uk/art/images/work/T/T12/T...</td>\n",
              "      <td>http://www.tate.org.uk/art/artworks/moon-drawi...</td>\n",
              "      <td>-0.173661</td>\n",
              "      <td>0.006588</td>\n",
              "      <td>25.3</td>\n",
              "    </tr>\n",
              "  </tbody>\n",
              "</table>\n",
              "<p>3839 rows × 23 columns</p>\n",
              "</div>"
            ],
            "text/plain": [
              "          id accession_number  ... height_minmax height_cm\n",
              "1025     550           A01029  ...      0.005761      22.2\n",
              "1026     551           A01030  ...      0.004081      15.9\n",
              "1027     552           A01031  ...      0.004747      18.4\n",
              "1028     553           A01032  ...      0.005948      22.9\n",
              "1029     554           A01033  ...      0.005441      21.0\n",
              "...      ...              ...  ...           ...       ...\n",
              "67576  89914           T12231  ...      0.006588      25.3\n",
              "67577  89915           T12232  ...      0.006588      25.3\n",
              "67578  89916           T12233  ...      0.006588      25.3\n",
              "67579  89917           T12234  ...      0.006588      25.3\n",
              "67580  89918           T12235  ...      0.006588      25.3\n",
              "\n",
              "[3839 rows x 23 columns]"
            ]
          },
          "metadata": {
            "tags": []
          },
          "execution_count": 199
        }
      ]
    },
    {
      "cell_type": "code",
      "metadata": {
        "id": "M-6R3Y7wlNuu"
      },
      "source": [
        "art.dropna(subset=['year','acquisition_year'],how='all',inplace=True)"
      ],
      "execution_count": null,
      "outputs": []
    },
    {
      "cell_type": "code",
      "metadata": {
        "id": "WL6tuRH2lNuu"
      },
      "source": [
        "art.drop_duplicates(inplace=True)"
      ],
      "execution_count": null,
      "outputs": []
    }
  ]
}